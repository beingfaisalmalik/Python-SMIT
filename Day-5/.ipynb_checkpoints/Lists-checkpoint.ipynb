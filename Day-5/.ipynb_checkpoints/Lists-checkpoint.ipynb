{
 "cells": [
  {
   "cell_type": "markdown",
   "id": "dc221088-d99a-456e-9ea5-bfd7fb6f215f",
   "metadata": {},
   "source": [
    "# LISTS\n",
    "\n",
    "* Starts From The **[** Open Bracket and ends with **]**\n",
    "* value/item `store any data type`\n",
    "* Value Separator Between Two Types is `,`\n",
    "* In Indexing We Can Extract Single Value\n",
    "\n",
    "\n",
    "# Slicing\n",
    "\n",
    "* In Slicing We Extract Portion Of a Value\n",
    "* `[varibale:End:Step]` all Parammeters are numbers\n",
    "    * **Start include \n",
    "    * ** End Exlcude (end-1)\n",
    "    * ** Steps sequence (---> 1) # By Default it will go to left to right\n",
    "    \n",
    "# Lists Operators On List Data Types"
   ]
  },
  {
   "cell_type": "code",
   "execution_count": 1,
   "id": "6946ccc4-8d94-411e-9cce-5c04426fa836",
   "metadata": {},
   "outputs": [
    {
     "name": "stdout",
     "output_type": "stream",
     "text": [
      "['Faisal', 1, True]\n"
     ]
    }
   ],
   "source": [
    "names = [\"Faisal\", 1, True]\n",
    "print(names)"
   ]
  },
  {
   "cell_type": "code",
   "execution_count": 3,
   "id": "e5724ea3-8d12-4e6d-87c7-dea0d05bcf03",
   "metadata": {},
   "outputs": [
    {
     "name": "stdout",
     "output_type": "stream",
     "text": [
      "3\n"
     ]
    }
   ],
   "source": [
    "print(len(names))"
   ]
  },
  {
   "cell_type": "code",
   "execution_count": 5,
   "id": "dfee6691-1788-4451-a0bf-1b06a11bb6ce",
   "metadata": {},
   "outputs": [
    {
     "name": "stdout",
     "output_type": "stream",
     "text": [
      "Faisal\n",
      "1\n",
      "True\n"
     ]
    }
   ],
   "source": [
    "# ---> Index Left To Right \n",
    "print(names[0])\n",
    "print(names[1])\n",
    "print(names[2])"
   ]
  },
  {
   "cell_type": "code",
   "execution_count": 6,
   "id": "46ff7b39-b5dd-444b-af2b-3b455023e504",
   "metadata": {},
   "outputs": [
    {
     "name": "stdout",
     "output_type": "stream",
     "text": [
      "True\n",
      "1\n",
      "Faisal\n"
     ]
    }
   ],
   "source": [
    "print(names[-1])\n",
    "print(names[-2])\n",
    "print(names[-3])"
   ]
  },
  {
   "cell_type": "code",
   "execution_count": 73,
   "id": "5a065abe-84f7-47e3-98e4-29f1fd2cb039",
   "metadata": {},
   "outputs": [
    {
     "name": "stdout",
     "output_type": "stream",
     "text": [
      "True\n",
      "Faisal\n",
      "1\n",
      "\n",
      "Faisal\n",
      "1\n",
      "True\n",
      "[12, 36, 56, 50]\n",
      "1\n",
      "2\n",
      "6\n",
      "6\n",
      "[5, 4, 3, 2, 1]\n"
     ]
    }
   ],
   "source": [
    "# For Right To Left\n",
    "for i in range(0,3):\n",
    "    print(names[i-1])\n",
    "print()\n",
    "# For Left To Right\n",
    "for i in names:\n",
    "    print(i)\n",
    "    \n",
    "lstnum = [12, 36, 56, 36, 36, 50, 56, 12] \n",
    "  \n",
    "unique_lst = [] \n",
    "[unique_lst.append(ele) for ele in lstnum if ele not in unique_lst]\n",
    "               \n",
    "print(unique_lst)\n",
    "\n",
    "sum = 1\n",
    "l = [1,2,3]\n",
    "for ele in range(0, len(l)):\n",
    "    sum *= l[ele]\n",
    "    print(sum)\n",
    "print(sum)\n",
    "\n",
    "lst = list(range(0,7))\n",
    "# 0,1,2,3,4,5,6,7\n",
    "#[0,1,2,3,4,5,6]\n",
    "#-6,-5,-4,-3,-2,-1\n",
    "print(lst[5:-7:-1])"
   ]
  },
  {
   "cell_type": "code",
   "execution_count": 80,
   "id": "0de69660-ed3e-4325-b3f1-05e8c8739aed",
   "metadata": {},
   "outputs": [
    {
     "data": {
      "text/plain": [
       "[500, 1000, 2000, 500, 1000, 2000]"
      ]
     },
     "execution_count": 80,
     "metadata": {},
     "output_type": "execute_result"
    }
   ],
   "source": [
    "#Extending The Lists\n",
    "l = [500,1000,2000]\n",
    "l2 = [1,2,3]\n",
    "l+l2\n",
    "# For Repeating The Lists Elements\n",
    "\n",
    "l* 2\n"
   ]
  },
  {
   "cell_type": "markdown",
   "id": "a2247c1c-cea4-491e-8937-c4f7a069eccd",
   "metadata": {},
   "source": [
    "# LISTS DATA TYPE METHODS"
   ]
  },
  {
   "cell_type": "code",
   "execution_count": 92,
   "id": "1ddffc5f-b928-4192-8b71-65b4e3bafb14",
   "metadata": {},
   "outputs": [
    {
     "name": "stdout",
     "output_type": "stream",
     "text": [
      "[]\n",
      "[]\n"
     ]
    }
   ],
   "source": [
    "# Append Always At The end Of The List\n",
    "# Append Value Item At The End Of The list\n",
    "\n",
    "print(l)"
   ]
  },
  {
   "cell_type": "code",
   "execution_count": null,
   "id": "efab1a7c-0476-4d40-8635-8ded14cdaa6b",
   "metadata": {},
   "outputs": [],
   "source": [
    "# .clear() Clears The Lists \n",
    "# While del deletes all of the lists from the memory\n",
    "# Clears Of The Lists Items Not Deletes The Lists\n",
    "# The Del Delete The Whole List Permenantly\n"
   ]
  },
  {
   "cell_type": "code",
   "execution_count": null,
   "id": "f736a534-b7ef-4876-9093-559c0f9ff8bc",
   "metadata": {},
   "outputs": [],
   "source": [
    "# .copy () for same deep copy\n",
    "#  = for shallow copy\n",
    "\n"
   ]
  },
  {
   "cell_type": "code",
   "execution_count": 93,
   "id": "74ff2553-d180-48f0-b337-3cd02a6a2bc5",
   "metadata": {},
   "outputs": [
    {
     "data": {
      "text/plain": [
       "1"
      ]
     },
     "execution_count": 93,
     "metadata": {},
     "output_type": "execute_result"
    }
   ],
   "source": [
    " l = ['a','b','c','d','f']\n",
    "\n",
    "l.count('a')\n"
   ]
  },
  {
   "cell_type": "code",
   "execution_count": 102,
   "id": "1e0603cc-5f0d-4d29-983f-8a5184e85e89",
   "metadata": {},
   "outputs": [
    {
     "name": "stdout",
     "output_type": "stream",
     "text": [
      "['Faisal', 1, 2, 3, 1, 2, 3, 5, 6]\n",
      "2\n",
      "2\n",
      "2\n",
      "2\n",
      "2\n",
      "2\n",
      "2\n",
      "2\n",
      "2\n"
     ]
    }
   ],
   "source": [
    "names = []\n",
    "\n",
    "names.append(\"Faisal\")\n",
    "names.extend([1,2,3,1,2,3,5,6])\n",
    "print(names)\n",
    "\n",
    "# Always Return the first coccured \n",
    "for i in range(0,len(names)):\n",
    "    print(names.index(2))"
   ]
  },
  {
   "cell_type": "markdown",
   "id": "7d3858c9-aa39-4fdd-8f27-1b41c047de18",
   "metadata": {},
   "source": [
    "# Diffrence between the + and The extend\n"
   ]
  },
  {
   "cell_type": "markdown",
   "id": "c20c86a0-b575-4b25-a8cf-144513a12ba5",
   "metadata": {},
   "source": [
    "* extend Changes The In Memory Operation\n",
    "* Inine Operation Changes only The In Line Data And That Is Plus"
   ]
  },
  {
   "cell_type": "code",
   "execution_count": 108,
   "id": "a7fe3a40-74dd-4038-89bb-a50630068b5c",
   "metadata": {},
   "outputs": [
    {
     "name": "stdout",
     "output_type": "stream",
     "text": [
      "['a', 'a', 'a', 'a', 'a', 'a', 'b']\n",
      "b\n",
      "['a', 'a', 'a', 'a', 'a', 'a']\n"
     ]
    }
   ],
   "source": [
    "# Inserting The Value On Partiular Index \n",
    "l.insert(1,'a')\n",
    "print(l)\n",
    "\n",
    "# Pop Is a Return Function\n",
    "\n",
    "m = l.pop()\n",
    "print(m)\n",
    "print(l)"
   ]
  },
  {
   "cell_type": "code",
   "execution_count": 114,
   "id": "2aab0505-7171-4e4a-aae7-f9f622760200",
   "metadata": {},
   "outputs": [
    {
     "name": "stdout",
     "output_type": "stream",
     "text": [
      "[6, 5, 4, 3, 2, 1]\n"
     ]
    }
   ],
   "source": [
    "l = [1,2,3,4,5,6]\n",
    "l.sort(reverse=True)\n",
    "print(l)"
   ]
  },
  {
   "cell_type": "markdown",
   "id": "5e901597-057a-4f49-be44-4328166eec27",
   "metadata": {},
   "source": [
    "# Remove Element By Searching\n"
   ]
  },
  {
   "cell_type": "code",
   "execution_count": 116,
   "id": "e3b2a868-29c4-4b22-8451-9d0471b595af",
   "metadata": {},
   "outputs": [
    {
     "name": "stdin",
     "output_type": "stream",
     "text": [
      "Enter The Item a\n"
     ]
    },
    {
     "name": "stdout",
     "output_type": "stream",
     "text": [
      "['a', 'b', 'cd']\n",
      "0\n",
      "a\n",
      "['b', 'cd']\n"
     ]
    }
   ],
   "source": [
    "l1 = ['a','b','c''d']\n",
    "remove_item = input (\"Enter The Item\")\n",
    "print(l1)\n",
    "idx = l1.index(remove_item)\n",
    "print(idx)\n",
    "m = l1.pop(idx)\n",
    "print(m)\n",
    "print(l1)"
   ]
  },
  {
   "cell_type": "code",
   "execution_count": 122,
   "id": "873e386f-acce-4475-8148-5655b7aed9cd",
   "metadata": {},
   "outputs": [],
   "source": [
    "l1 = ['a','b','c''d']\n",
    "l1.remove('b')"
   ]
  },
  {
   "cell_type": "markdown",
   "id": "ca728dfd-03cc-43b0-a12b-966a45affcd9",
   "metadata": {},
   "source": [
    "# List Comprehension \n"
   ]
  },
  {
   "cell_type": "code",
   "execution_count": 128,
   "id": "436b9580-e0c6-4aa9-92a8-c0f4475cc433",
   "metadata": {},
   "outputs": [
    {
     "name": "stdout",
     "output_type": "stream",
     "text": [
      "[]\n",
      "[1, 4, 9, 16, 25]\n"
     ]
    }
   ],
   "source": [
    "l = list()\n",
    "print(l)\n",
    "l = [1,2,3,4,5]\n",
    "l = [number**2 for number in l]\n",
    "print(l)"
   ]
  },
  {
   "cell_type": "code",
   "execution_count": null,
   "id": "ebb108f7-942f-41ca-8a2a-a3f951cdb675",
   "metadata": {},
   "outputs": [],
   "source": []
  }
 ],
 "metadata": {
  "kernelspec": {
   "display_name": "Python 3 (ipykernel)",
   "language": "python",
   "name": "python3"
  },
  "language_info": {
   "codemirror_mode": {
    "name": "ipython",
    "version": 3
   },
   "file_extension": ".py",
   "mimetype": "text/x-python",
   "name": "python",
   "nbconvert_exporter": "python",
   "pygments_lexer": "ipython3",
   "version": "3.9.13"
  }
 },
 "nbformat": 4,
 "nbformat_minor": 5
}
