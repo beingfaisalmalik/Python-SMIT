{
 "cells": [
  {
   "cell_type": "markdown",
   "id": "b411c86e-7976-42a1-bfcf-e5ad98d06884",
   "metadata": {
    "tags": []
   },
   "source": [
    "# Object Oriented Proramming"
   ]
  },
  {
   "cell_type": "code",
   "execution_count": null,
   "id": "3258f8ca-e3e9-4473-90ed-15d10bfd3316",
   "metadata": {},
   "outputs": [],
   "source": []
  }
 ],
 "metadata": {
  "kernelspec": {
   "display_name": "Python 3 (ipykernel)",
   "language": "python",
   "name": "python3"
  },
  "language_info": {
   "codemirror_mode": {
    "name": "ipython",
    "version": 3
   },
   "file_extension": ".py",
   "mimetype": "text/x-python",
   "name": "python",
   "nbconvert_exporter": "python",
   "pygments_lexer": "ipython3",
   "version": "3.9.13"
  }
 },
 "nbformat": 4,
 "nbformat_minor": 5
}
