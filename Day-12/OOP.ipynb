{
 "cells": [
  {
   "cell_type": "markdown",
   "id": "b411c86e-7976-42a1-bfcf-e5ad98d06884",
   "metadata": {
    "tags": []
   },
   "source": [
    "# Object Oriented Proramming"
   ]
  },
  {
   "cell_type": "markdown",
   "id": "5f8a82a5-9346-4fb5-8a0d-c232036f6c55",
   "metadata": {},
   "source": [
    "``Classes`` <br>\n",
    "``Objects`` <br>\n",
    "``Pillars Of OOP``<br>\n"
   ]
  },
  {
   "cell_type": "code",
   "execution_count": 2,
   "id": "715ce859-506a-44b1-bd93-a5172baaa479",
   "metadata": {},
   "outputs": [
    {
     "ename": "IndentationError",
     "evalue": "expected an indented block (804198727.py, line 1)",
     "output_type": "error",
     "traceback": [
      "\u001b[1;36m  File \u001b[1;32m\"C:\\Users\\HP\\AppData\\Local\\Temp\\ipykernel_11164\\804198727.py\"\u001b[1;36m, line \u001b[1;32m1\u001b[0m\n\u001b[1;33m    class Faisal():\u001b[0m\n\u001b[1;37m                   ^\u001b[0m\n\u001b[1;31mIndentationError\u001b[0m\u001b[1;31m:\u001b[0m expected an indented block\n"
     ]
    }
   ],
   "source": [
    "class Faisal():\n",
    "    "
   ]
  },
  {
   "cell_type": "code",
   "execution_count": null,
   "id": "720c5555-81b5-4e14-a341-14fae59a1941",
   "metadata": {},
   "outputs": [],
   "source": []
  }
 ],
 "metadata": {
  "kernelspec": {
   "display_name": "Python 3 (ipykernel)",
   "language": "python",
   "name": "python3"
  },
  "language_info": {
   "codemirror_mode": {
    "name": "ipython",
    "version": 3
   },
   "file_extension": ".py",
   "mimetype": "text/x-python",
   "name": "python",
   "nbconvert_exporter": "python",
   "pygments_lexer": "ipython3",
   "version": "3.9.13"
  }
 },
 "nbformat": 4,
 "nbformat_minor": 5
}
