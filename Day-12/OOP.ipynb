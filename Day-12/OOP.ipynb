{
 "cells": [
  {
   "cell_type": "markdown",
   "id": "b411c86e-7976-42a1-bfcf-e5ad98d06884",
   "metadata": {
    "tags": []
   },
   "source": [
    "# Object Oriented Proramming"
   ]
  },
  {
   "cell_type": "markdown",
   "id": "5f8a82a5-9346-4fb5-8a0d-c232036f6c55",
   "metadata": {},
   "source": [
    "``Classes`` <br>\n",
    "``Objects`` <br>\n",
    "`` 4 Pillars Of OOP``<br>\n",
    "`` Encapsulation`` <br> (Whatever Class It Is All Of The Methods  And Attributes Will Be Encapsulated Setter For Setting Up The Value And Getter For Getting The Value) <br>\n",
    "``Inheritance`` (Inherting Values From The Parent Class )<br>\n",
    "``Polymorphism OverLoading `` <br>\n",
    "(Multiple Behaviour Overloading (Function With Same Name In Single Class With Different Parameters\n",
    ") <br>\n",
    "``Polymorphism OverRiding `` <br>\n",
    "Overiding (One Function With Multiple Behaviour Different Parameters It Can be Of Same Name But In Different CLasses)) <br>\n",
    "`` Abstraction `` <br> ( The Class Which Does Not Have Any Direct Object And hiding The unessecary Details From The Users) <br>\n",
    "`` Multiple Inheritance`` <br>"
   ]
  },
  {
   "cell_type": "markdown",
   "id": "e556b918-b05a-4367-9b15-4d8b07eb2a80",
   "metadata": {},
   "source": [
    "# Class"
   ]
  },
  {
   "cell_type": "code",
   "execution_count": 5,
   "id": "cae9fda5-85d2-410f-8804-eeedc5d7140e",
   "metadata": {},
   "outputs": [
    {
     "ename": "IndentationError",
     "evalue": "expected an indented block (2391211657.py, line 2)",
     "output_type": "error",
     "traceback": [
      "\u001b[1;36m  File \u001b[1;32m\"C:\\Users\\HP\\AppData\\Local\\Temp\\ipykernel_11164\\2391211657.py\"\u001b[1;36m, line \u001b[1;32m2\u001b[0m\n\u001b[1;33m    def __init__():\u001b[0m\n\u001b[1;37m                   ^\u001b[0m\n\u001b[1;31mIndentationError\u001b[0m\u001b[1;31m:\u001b[0m expected an indented block\n"
     ]
    }
   ],
   "source": [
    "class Student():\n",
    "    def __init__(self):\n",
    "    \n",
    "        "
   ]
  },
  {
   "cell_type": "code",
   "execution_count": null,
   "id": "51e36723-a7e2-4861-911d-30e5149edff8",
   "metadata": {},
   "outputs": [],
   "source": []
  }
 ],
 "metadata": {
  "kernelspec": {
   "display_name": "Python 3 (ipykernel)",
   "language": "python",
   "name": "python3"
  },
  "language_info": {
   "codemirror_mode": {
    "name": "ipython",
    "version": 3
   },
   "file_extension": ".py",
   "mimetype": "text/x-python",
   "name": "python",
   "nbconvert_exporter": "python",
   "pygments_lexer": "ipython3",
   "version": "3.9.13"
  }
 },
 "nbformat": 4,
 "nbformat_minor": 5
}
