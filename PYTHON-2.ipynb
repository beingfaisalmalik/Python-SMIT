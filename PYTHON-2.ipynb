{
 "cells": [
  {
   "cell_type": "markdown",
   "id": "7df0fd37-7c69-46e6-ad02-c269d6a8a44d",
   "metadata": {},
   "source": [
    "# Class 2\n",
    "* Help\n",
    "\n",
    "    * **functionName()\n",
    "    * help function\n",
    "    * function_name(```Press Shift+Tab```)\n",
    "    * function?\n",
    "    * function??\n",
    "    * ?function\n",
    "    * ??function\n",
    "* print\n",
    "    * value ,\n",
    "    * sep\n",
    "    * end\n",
    "* variable\n",
    "    * string\n",
    "        * Start With **\"** Ends With **\"**\n",
    "       ```\"Muhammad Faisal\"```\n",
    "        * you can also use these symbols for define strings\n",
    "            * ```'``` Single  Qoutes\n",
    "            * ```\"``` Double Qoutes\n",
    "            * ```\"\"\"``` MultiLine Double Qoutes\n",
    "            * ```'''``` MultiLine Single Qoutes\n",
    "    * Number\n",
    "        * float\n",
    "        * int\n",
    "            * ```1,23,1222```\n",
    "    * with print\n",
    "\n",
    " "
   ]
  },
  {
   "cell_type": "code",
   "execution_count": 4,
   "id": "0f39e8e3-e723-4ca0-b334-fd1d1fcab758",
   "metadata": {},
   "outputs": [
    {
     "name": "stdout",
     "output_type": "stream",
     "text": [
      "Help on built-in function print in module builtins:\n",
      "\n",
      "print(...)\n",
      "    print(value, ..., sep=' ', end='\\n', file=sys.stdout, flush=False)\n",
      "    \n",
      "    Prints the values to a stream, or to sys.stdout by default.\n",
      "    Optional keyword arguments:\n",
      "    file:  a file-like object (stream); defaults to the current sys.stdout.\n",
      "    sep:   string inserted between values, default a space.\n",
      "    end:   string appended after the last value, default a newline.\n",
      "    flush: whether to forcibly flush the stream.\n",
      "\n"
     ]
    }
   ],
   "source": [
    "## how to take help\n",
    "help(print)"
   ]
  },
  {
   "cell_type": "code",
   "execution_count": null,
   "id": "3dcc177c-8f1a-4105-aba6-086f2ef9f7e5",
   "metadata": {},
   "outputs": [],
   "source": [
    "# Press Shift + Tab\n",
    "print()"
   ]
  },
  {
   "cell_type": "code",
   "execution_count": 5,
   "id": "cf937ea7-398b-490b-9b76-cd6c6287c4ad",
   "metadata": {},
   "outputs": [
    {
     "data": {
      "text/plain": [
       "\u001b[1;31mDocstring:\u001b[0m\n",
       "print(value, ..., sep=' ', end='\\n', file=sys.stdout, flush=False)\n",
       "\n",
       "Prints the values to a stream, or to sys.stdout by default.\n",
       "Optional keyword arguments:\n",
       "file:  a file-like object (stream); defaults to the current sys.stdout.\n",
       "sep:   string inserted between values, default a space.\n",
       "end:   string appended after the last value, default a newline.\n",
       "flush: whether to forcibly flush the stream.\n",
       "\u001b[1;31mType:\u001b[0m      builtin_function_or_method\n"
      ]
     },
     "metadata": {},
     "output_type": "display_data"
    }
   ],
   "source": [
    "print?"
   ]
  },
  {
   "cell_type": "code",
   "execution_count": 7,
   "id": "3abda8db-0aee-4c21-8244-22d16992bb48",
   "metadata": {},
   "outputs": [
    {
     "data": {
      "text/plain": [
       "\u001b[1;31mDocstring:\u001b[0m\n",
       "print(value, ..., sep=' ', end='\\n', file=sys.stdout, flush=False)\n",
       "\n",
       "Prints the values to a stream, or to sys.stdout by default.\n",
       "Optional keyword arguments:\n",
       "file:  a file-like object (stream); defaults to the current sys.stdout.\n",
       "sep:   string inserted between values, default a space.\n",
       "end:   string appended after the last value, default a newline.\n",
       "flush: whether to forcibly flush the stream.\n",
       "\u001b[1;31mType:\u001b[0m      builtin_function_or_method\n"
      ]
     },
     "metadata": {},
     "output_type": "display_data"
    }
   ],
   "source": [
    "print??"
   ]
  },
  {
   "cell_type": "code",
   "execution_count": 8,
   "id": "13cf706b-aef3-4c1e-8f82-b333ec42cc09",
   "metadata": {},
   "outputs": [
    {
     "data": {
      "text/plain": [
       "\u001b[1;31mDocstring:\u001b[0m\n",
       "print(value, ..., sep=' ', end='\\n', file=sys.stdout, flush=False)\n",
       "\n",
       "Prints the values to a stream, or to sys.stdout by default.\n",
       "Optional keyword arguments:\n",
       "file:  a file-like object (stream); defaults to the current sys.stdout.\n",
       "sep:   string inserted between values, default a space.\n",
       "end:   string appended after the last value, default a newline.\n",
       "flush: whether to forcibly flush the stream.\n",
       "\u001b[1;31mType:\u001b[0m      builtin_function_or_method\n"
      ]
     },
     "metadata": {},
     "output_type": "display_data"
    }
   ],
   "source": [
    "??print"
   ]
  },
  {
   "cell_type": "markdown",
   "id": "e59a147e-a764-4706-87c9-67aa150790ea",
   "metadata": {},
   "source": [
    "# Pass Values In Print Function"
   ]
  },
  {
   "cell_type": "code",
   "execution_count": 9,
   "id": "0d93bad1-0c2c-4ea8-a35b-b7d68f1f3f10",
   "metadata": {},
   "outputs": [
    {
     "name": "stdout",
     "output_type": "stream",
     "text": [
      "A B C D\n"
     ]
    }
   ],
   "source": [
    "!#Separator is space is between them\n",
    "print(\"A\",\"B\",\"C\",\"D\")"
   ]
  },
  {
   "cell_type": "code",
   "execution_count": 10,
   "id": "3fc1b26e-d322-46d9-8063-ef611fc01f8d",
   "metadata": {},
   "outputs": [
    {
     "name": "stdout",
     "output_type": "stream",
     "text": [
      "ABCD\n",
      "A**B**C**D\n"
     ]
    }
   ],
   "source": [
    "!#Separator\n",
    "print(\"A\",\"B\",\"C\",\"D\", sep=\"\")\n",
    "print(\"A\",\"B\",\"C\",\"D\", sep=\"**\")"
   ]
  },
  {
   "cell_type": "code",
   "execution_count": 11,
   "id": "01eda315-d306-4d88-b027-18e8defb3f69",
   "metadata": {},
   "outputs": [
    {
     "name": "stdout",
     "output_type": "stream",
     "text": [
      "1 2.0 3 4 A V\n"
     ]
    }
   ],
   "source": [
    "print(1,2.,3,4,\"A\",\"V\")"
   ]
  },
  {
   "cell_type": "code",
   "execution_count": 12,
   "id": "3146a989-105e-42b3-8936-99d1c7281b9a",
   "metadata": {},
   "outputs": [
    {
     "name": "stdout",
     "output_type": "stream",
     "text": [
      "Line 1\n",
      "Line 2\n",
      "Line 3\n"
     ]
    }
   ],
   "source": [
    "print(\"Line 1\")\n",
    "print(\"Line 2\")\n",
    "print('Line 3')"
   ]
  },
  {
   "cell_type": "code",
   "execution_count": 14,
   "id": "b63b5a1a-9c92-43e9-9905-9931dd9ea73e",
   "metadata": {},
   "outputs": [
    {
     "name": "stdout",
     "output_type": "stream",
     "text": [
      "Line 1>>>Line 2>>>Line 3>>>"
     ]
    }
   ],
   "source": [
    "#End Parameter\n",
    "print(\"Line 1\", end='>>>')\n",
    "print(\"Line 2\", end='>>>')\n",
    "print('Line 3', end='>>>')"
   ]
  },
  {
   "cell_type": "code",
   "execution_count": 15,
   "id": "66b7c1be-01bf-433d-acf4-717b762c78c3",
   "metadata": {},
   "outputs": [
    {
     "data": {
      "text/plain": [
       "\u001b[1;31mInit signature:\u001b[0m \u001b[0mint\u001b[0m\u001b[1;33m(\u001b[0m\u001b[0mself\u001b[0m\u001b[1;33m,\u001b[0m \u001b[1;33m/\u001b[0m\u001b[1;33m,\u001b[0m \u001b[1;33m*\u001b[0m\u001b[0margs\u001b[0m\u001b[1;33m,\u001b[0m \u001b[1;33m**\u001b[0m\u001b[0mkwargs\u001b[0m\u001b[1;33m)\u001b[0m\u001b[1;33m\u001b[0m\u001b[1;33m\u001b[0m\u001b[0m\n",
       "\u001b[1;31mDocstring:\u001b[0m     \n",
       "int([x]) -> integer\n",
       "int(x, base=10) -> integer\n",
       "\n",
       "Convert a number or string to an integer, or return 0 if no arguments\n",
       "are given.  If x is a number, return x.__int__().  For floating point\n",
       "numbers, this truncates towards zero.\n",
       "\n",
       "If x is not a number or if base is given, then x must be a string,\n",
       "bytes, or bytearray instance representing an integer literal in the\n",
       "given base.  The literal can be preceded by '+' or '-' and be surrounded\n",
       "by whitespace.  The base defaults to 10.  Valid bases are 0 and 2-36.\n",
       "Base 0 means to interpret the base from the string as an integer literal.\n",
       ">>> int('0b100', base=0)\n",
       "4\n",
       "\u001b[1;31mType:\u001b[0m           type\n",
       "\u001b[1;31mSubclasses:\u001b[0m     bool, IntEnum, IntFlag, _NamedIntConstant, Handle\n"
      ]
     },
     "metadata": {},
     "output_type": "display_data"
    }
   ],
   "source": [
    "int??"
   ]
  },
  {
   "cell_type": "code",
   "execution_count": 16,
   "id": "d49660fd-87db-48ca-924c-da8b18ceb54a",
   "metadata": {},
   "outputs": [
    {
     "name": "stdout",
     "output_type": "stream",
     "text": [
      "12 3 5 9\n",
      "A B C\n",
      "i ii iii\n"
     ]
    }
   ],
   "source": [
    "print(12,3,5,9)\n",
    "print(\"A\",\"B\",\"C\")\n",
    "print(\"i\",\"ii\",\"iii\")"
   ]
  },
  {
   "cell_type": "code",
   "execution_count": 17,
   "id": "ad26c3e9-cbd5-4281-ae57-f54f06ba8fe8",
   "metadata": {},
   "outputs": [
    {
     "name": "stdout",
     "output_type": "stream",
     "text": [
      "12*3*5*9 A<B<C i>ii>iii "
     ]
    }
   ],
   "source": [
    "print(12,3,5,9 ,sep=\"*\", end= \" \")\n",
    "print(\"A\",\"B\",\"C\",sep=\"<\", end= \" \")\n",
    "print(\"i\",\"ii\",\"iii\",sep=\">\", end= \" \")"
   ]
  },
  {
   "cell_type": "markdown",
   "id": "64c85e6f-dc70-4a39-8cbd-a7fa3c749ca4",
   "metadata": {},
   "source": [
    "# Variable"
   ]
  },
  {
   "cell_type": "markdown",
   "id": "d5b76603-53f0-4b9e-8a7d-afd288ccdb97",
   "metadata": {},
   "source": [
    "# Variable Storage In Memory"
   ]
  },
  {
   "cell_type": "markdown",
   "id": "cdd3be7a-4fcf-447f-b0e1-de0e68f89b15",
   "metadata": {},
   "source": [
    "#### Ram Blocks In Bit Bytes Every Box Has Address \n",
    "#### Whenver we save a variable then it will save it to the box with the variable name (PlaceHolder) with value same as the variable value now e can use this placeholder name on multiple loctions rather then the static variables\n",
    "***```Variable Name = Value ```***\n",
    "\n",
    "![Alt text](https://miro.medium.com/max/1750/0*k5br6SBvvsNBSH48.png \"a title\")"
   ]
  },
  {
   "cell_type": "code",
   "execution_count": 21,
   "id": "7744e643-9d91-4c77-8af2-3842e44da16c",
   "metadata": {},
   "outputs": [
    {
     "name": "stdout",
     "output_type": "stream",
     "text": [
      "Muhammad Faisal\n"
     ]
    }
   ],
   "source": [
    "#Varaibles are efficient way o storing the data\n",
    "user_name = \"Muhammad Faisal\"\n",
    "print(user_name)"
   ]
  },
  {
   "cell_type": "code",
   "execution_count": 24,
   "id": "85e5700b-b3fc-47bb-b298-c17746511d68",
   "metadata": {},
   "outputs": [
    {
     "name": "stdout",
     "output_type": "stream",
     "text": [
      "Welcome Dear:  Muhammad Faisal aged:  23\n"
     ]
    }
   ],
   "source": [
    "name = \"Muhammad Faisal\"\n",
    "age = 23\n",
    "education = \"BSCS\"\n",
    "print(\"Welcome Dear: \" , name ,\"aged: \", age)"
   ]
  },
  {
   "cell_type": "code",
   "execution_count": 28,
   "id": "c2fa3b9d-fa1e-4d39-b7db-98ee14a80912",
   "metadata": {},
   "outputs": [
    {
     "name": "stdout",
     "output_type": "stream",
     "text": [
      "Saylani Mass IT Program \n",
      "Batch- AI And DS\n",
      "Class Days Tuesday And Friday\n",
      "\n"
     ]
    }
   ],
   "source": [
    "#its avantage is that we dont have to give space manually\n",
    "Card = \"\"\"Saylani Mass IT Program \n",
    "Batch- AI And DS\n",
    "Class Days Tuesday And Friday\n",
    "\"\"\"\n",
    "print(Card)"
   ]
  },
  {
   "cell_type": "code",
   "execution_count": 29,
   "id": "1b3f0886-3c49-4822-841b-fe3a1e47d767",
   "metadata": {},
   "outputs": [
    {
     "name": "stdout",
     "output_type": "stream",
     "text": [
      "\"Welcome Dear Muhammad Qasim\"\n"
     ]
    }
   ],
   "source": [
    "message = '\"Welcome Dear Muhammad Faisal\"'\n",
    "print(message)"
   ]
  },
  {
   "cell_type": "code",
   "execution_count": 32,
   "id": "20c74af4-d42c-40d7-b4b2-2f8238a2f4ec",
   "metadata": {},
   "outputs": [
    {
     "name": "stdout",
     "output_type": "stream",
     "text": [
      " \"'Welcome Dear Muhammad Faisal'\" \n"
     ]
    }
   ],
   "source": [
    "message = \"\"\" \"'Welcome Dear Muhammad Faisal'\" \"\"\"\n",
    "print(message)"
   ]
  },
  {
   "cell_type": "markdown",
   "id": "e5334be4-d03b-47f8-9def-d9abb794789a",
   "metadata": {},
   "source": [
    "## Convert Special Character Into Normal Character\n",
    "#### put **\\\\** Before Tis Character"
   ]
  },
  {
   "cell_type": "code",
   "execution_count": 34,
   "id": "ad4322f1-7d21-4b89-b8ad-bf7162c885d1",
   "metadata": {},
   "outputs": [
    {
     "name": "stdout",
     "output_type": "stream",
     "text": [
      " \"Welcome Dear Muhammad Faisal\" \n"
     ]
    }
   ],
   "source": [
    "message = \" \\\"Welcome Dear Muhammad Faisal\\\" \"\n",
    "print(message)"
   ]
  },
  {
   "cell_type": "markdown",
   "id": "41cb9f13-cffa-464e-a4a9-31957e4d7ddb",
   "metadata": {},
   "source": [
    "### Apply Some Funtion To Te Variables\\\n",
    "* help()\n",
    "* len\n",
    "* id()\n",
    "* dir()\n",
    "* type()"
   ]
  },
  {
   "cell_type": "code",
   "execution_count": 47,
   "id": "ec159788-2e24-4782-839c-f6b59880ee40",
   "metadata": {},
   "outputs": [
    {
     "name": "stdout",
     "output_type": "stream",
     "text": [
      "32\n",
      "1993890868176\n",
      "<class 'str'>\n"
     ]
    }
   ],
   "source": [
    "#Chaining Rule First Len Function Will Execute\n",
    "# Every Datatype is object \n",
    "message = \" \\\"Welcome Dear Muhammad Faisal\\\" \"\n",
    "print(len(message)) #Length Of The Variable Cannot Be Applied To The Integar\n",
    "print(id(message)) #Memory Address Of The Variables\n",
    "print(dir(message)) # All Methods And Attribute Of The Variable\n",
    "print(type(message)) # Type Of The Variable"
   ]
  },
  {
   "cell_type": "code",
   "execution_count": null,
   "id": "13500b79-d84e-405c-aad6-6e03f30f6244",
   "metadata": {},
   "outputs": [],
   "source": []
  },
  {
   "cell_type": "code",
   "execution_count": null,
   "id": "fcd27830-a144-4f36-a970-0c2fe96e3852",
   "metadata": {},
   "outputs": [],
   "source": []
  }
 ],
 "metadata": {
  "kernelspec": {
   "display_name": "Python 3 (ipykernel)",
   "language": "python",
   "name": "python3"
  },
  "language_info": {
   "codemirror_mode": {
    "name": "ipython",
    "version": 3
   },
   "file_extension": ".py",
   "mimetype": "text/x-python",
   "name": "python",
   "nbconvert_exporter": "python",
   "pygments_lexer": "ipython3",
   "version": "3.9.13"
  }
 },
 "nbformat": 4,
 "nbformat_minor": 5
}
