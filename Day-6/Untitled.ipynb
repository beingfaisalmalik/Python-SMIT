{
 "cells": [
  {
   "cell_type": "markdown",
   "id": "06cf17fe-6a88-4b87-a9c6-a5e9ca00ef8b",
   "metadata": {},
   "source": [
    "# DATA COLLECTION TYPE \n",
    "<img src=\"https://th.bing.com/th/id/OIP.vEsuJ1ZUN9TYLJ4FFsoubgHaDm?pid=ImgDet&rs=1\">"
   ]
  },
  {
   "cell_type": "markdown",
   "id": "707312a4-5970-4b46-b744-82e93d657266",
   "metadata": {},
   "source": [
    "## LIST\n",
    "## TUPLE\n",
    "## SETS\n",
    "## DICTONARIES"
   ]
  },
  {
   "cell_type": "markdown",
   "id": "9851001a-b039-4c42-b5ac-b8ef9a0037dc",
   "metadata": {},
   "source": [
    "### List Comprehension \n",
    " * comprhension in if, lists, dictonaries\n",
    "* for single line of code\n"
   ]
  },
  {
   "cell_type": "code",
   "execution_count": 2,
   "id": "807197ea-f10e-4db2-b73b-4728a63ad320",
   "metadata": {},
   "outputs": [
    {
     "name": "stdout",
     "output_type": "stream",
     "text": [
      "range(1, 10)\n"
     ]
    }
   ],
   "source": [
    "# Generator functions does not directly without the iteration\n",
    "\n",
    "range(11)"
   ]
  },
  {
   "cell_type": "code",
   "execution_count": 50,
   "id": "af7e1edf-767f-4acb-8acc-2a97846c4301",
   "metadata": {},
   "outputs": [
    {
     "name": "stdout",
     "output_type": "stream",
     "text": [
      "1X0=0\n",
      "1X1=1\n",
      "1X2=2\n",
      "1X3=3\n",
      "1X4=4\n",
      "1X5=5\n",
      "1X6=6\n",
      "1X7=7\n",
      "1X8=8\n",
      "1X9=9\n",
      "1X10=10\n",
      "1X11=11\n",
      "1X12=12\n",
      "1X13=13\n",
      "1X14=14\n",
      "1X15=15\n",
      "1X16=16\n",
      "1X17=17\n",
      "1X18=18\n",
      "1X19=19\n",
      "1X20=20\n",
      "\n",
      "2X0=0\n",
      "2X1=2\n",
      "2X2=4\n",
      "2X3=6\n",
      "2X4=8\n",
      "2X5=10\n",
      "2X6=12\n",
      "2X7=14\n",
      "2X8=16\n",
      "2X9=18\n",
      "2X10=20\n",
      "2X11=22\n",
      "2X12=24\n",
      "2X13=26\n",
      "2X14=28\n",
      "2X15=30\n",
      "2X16=32\n",
      "2X17=34\n",
      "2X18=36\n",
      "2X19=38\n",
      "2X20=40\n",
      "\n",
      "3X0=0\n",
      "3X1=3\n",
      "3X2=6\n",
      "3X3=9\n",
      "3X4=12\n",
      "3X5=15\n",
      "3X6=18\n",
      "3X7=21\n",
      "3X8=24\n",
      "3X9=27\n",
      "3X10=30\n",
      "3X11=33\n",
      "3X12=36\n",
      "3X13=39\n",
      "3X14=42\n",
      "3X15=45\n",
      "3X16=48\n",
      "3X17=51\n",
      "3X18=54\n",
      "3X19=57\n",
      "3X20=60\n",
      "\n",
      "4X0=0\n",
      "4X1=4\n",
      "4X2=8\n",
      "4X3=12\n",
      "4X4=16\n",
      "4X5=20\n",
      "4X6=24\n",
      "4X7=28\n",
      "4X8=32\n",
      "4X9=36\n",
      "4X10=40\n",
      "4X11=44\n",
      "4X12=48\n",
      "4X13=52\n",
      "4X14=56\n",
      "4X15=60\n",
      "4X16=64\n",
      "4X17=68\n",
      "4X18=72\n",
      "4X19=76\n",
      "4X20=80\n",
      "\n",
      "5X0=0\n",
      "5X1=5\n",
      "5X2=10\n",
      "5X3=15\n",
      "5X4=20\n",
      "5X5=25\n",
      "5X6=30\n",
      "5X7=35\n",
      "5X8=40\n",
      "5X9=45\n",
      "5X10=50\n",
      "5X11=55\n",
      "5X12=60\n",
      "5X13=65\n",
      "5X14=70\n",
      "5X15=75\n",
      "5X16=80\n",
      "5X17=85\n",
      "5X18=90\n",
      "5X19=95\n",
      "5X20=100\n",
      "\n",
      "6X0=0\n",
      "6X1=6\n",
      "6X2=12\n",
      "6X3=18\n",
      "6X4=24\n",
      "6X5=30\n",
      "6X6=36\n",
      "6X7=42\n",
      "6X8=48\n",
      "6X9=54\n",
      "6X10=60\n",
      "6X11=66\n",
      "6X12=72\n",
      "6X13=78\n",
      "6X14=84\n",
      "6X15=90\n",
      "6X16=96\n",
      "6X17=102\n",
      "6X18=108\n",
      "6X19=114\n",
      "6X20=120\n",
      "\n",
      "7X0=0\n",
      "7X1=7\n",
      "7X2=14\n",
      "7X3=21\n",
      "7X4=28\n",
      "7X5=35\n",
      "7X6=42\n",
      "7X7=49\n",
      "7X8=56\n",
      "7X9=63\n",
      "7X10=70\n",
      "7X11=77\n",
      "7X12=84\n",
      "7X13=91\n",
      "7X14=98\n",
      "7X15=105\n",
      "7X16=112\n",
      "7X17=119\n",
      "7X18=126\n",
      "7X19=133\n",
      "7X20=140\n",
      "\n",
      "8X0=0\n",
      "8X1=8\n",
      "8X2=16\n",
      "8X3=24\n",
      "8X4=32\n",
      "8X5=40\n",
      "8X6=48\n",
      "8X7=56\n",
      "8X8=64\n",
      "8X9=72\n",
      "8X10=80\n",
      "8X11=88\n",
      "8X12=96\n",
      "8X13=104\n",
      "8X14=112\n",
      "8X15=120\n",
      "8X16=128\n",
      "8X17=136\n",
      "8X18=144\n",
      "8X19=152\n",
      "8X20=160\n",
      "\n",
      "9X0=0\n",
      "9X1=9\n",
      "9X2=18\n",
      "9X3=27\n",
      "9X4=36\n",
      "9X5=45\n",
      "9X6=54\n",
      "9X7=63\n",
      "9X8=72\n",
      "9X9=81\n",
      "9X10=90\n",
      "9X11=99\n",
      "9X12=108\n",
      "9X13=117\n",
      "9X14=126\n",
      "9X15=135\n",
      "9X16=144\n",
      "9X17=153\n",
      "9X18=162\n",
      "9X19=171\n",
      "9X20=180\n",
      "\n",
      "10X0=0\n",
      "10X1=10\n",
      "10X2=20\n",
      "10X3=30\n",
      "10X4=40\n",
      "10X5=50\n",
      "10X6=60\n",
      "10X7=70\n",
      "10X8=80\n",
      "10X9=90\n",
      "10X10=100\n",
      "10X11=110\n",
      "10X12=120\n",
      "10X13=130\n",
      "10X14=140\n",
      "10X15=150\n",
      "10X16=160\n",
      "10X17=170\n",
      "10X18=180\n",
      "10X19=190\n",
      "10X20=200\n",
      "\n"
     ]
    }
   ],
   "source": [
    "Number = 20\n",
    "No_Of_Tables  = 10                 \n",
    "for i in range(1,(No_Of_Tables+1)):\n",
    "    for j in range(0,(Number+1)):\n",
    "        print(f\"{i}X{j}={j*i}\")\n",
    "    print()"
   ]
  },
  {
   "cell_type": "code",
   "execution_count": 11,
   "id": "24b23011-2425-487a-9b78-40c3fb6b0103",
   "metadata": {},
   "outputs": [
    {
     "name": "stdout",
     "output_type": "stream",
     "text": [
      "[102.56, 97.7, 99.14, 100.03999999999999]\n"
     ]
    }
   ],
   "source": [
    "# Celcius to Ferenhuit using list comprehension\n",
    "Celsius = [39.2, 36.5, 37.3, 37.8]\n",
    "f = [float((i* (9/5)) + 32) for i in Celsius]\n",
    "print(f)"
   ]
  },
  {
   "cell_type": "code",
   "execution_count": 17,
   "id": "782efa8f-dc96-4fd7-b2c6-90b66ec7f23d",
   "metadata": {},
   "outputs": [
    {
     "name": "stdout",
     "output_type": "stream",
     "text": [
      "I=1,J=1 \n",
      "I=2,J=1 I=2,J=2 \n",
      "I=3,J=1 I=3,J=2 I=3,J=3 \n",
      "I=4,J=1 I=4,J=2 I=4,J=3 I=4,J=4 \n",
      "I=5,J=1 I=5,J=2 I=5,J=3 I=5,J=4 I=5,J=5 \n",
      "I=6,J=1 I=6,J=2 I=6,J=3 I=6,J=4 I=6,J=5 I=6,J=6 \n",
      "I=7,J=1 I=7,J=2 I=7,J=3 I=7,J=4 I=7,J=5 I=7,J=6 I=7,J=7 \n",
      "I=8,J=1 I=8,J=2 I=8,J=3 I=8,J=4 I=8,J=5 I=8,J=6 I=8,J=7 I=8,J=8 \n",
      "I=9,J=1 I=9,J=2 I=9,J=3 I=9,J=4 I=9,J=5 I=9,J=6 I=9,J=7 I=9,J=8 I=9,J=9 \n",
      "I=10,J=1 I=10,J=2 I=10,J=3 I=10,J=4 I=10,J=5 I=10,J=6 I=10,J=7 I=10,J=8 I=10,J=9 I=10,J=10 \n"
     ]
    }
   ],
   "source": [
    "#Nested Loops \n",
    "for i in range(1,11):\n",
    "    for j in range(1,i+1):\n",
    "        print((f\"I={i},J={j}\"),end=\" \")\n",
    "    print()"
   ]
  },
  {
   "cell_type": "code",
   "execution_count": 26,
   "id": "7b52ba77-70f8-4d5a-9c5a-dafdd4e49edc",
   "metadata": {},
   "outputs": [
    {
     "name": "stdout",
     "output_type": "stream",
     "text": [
      "1 2 3 \n",
      "4 5 6 \n",
      "7 8 9 \n"
     ]
    }
   ],
   "source": [
    "l = [[1,2,3],\n",
    "    [4,5,6],\n",
    "     [7,8,9]]\n",
    "for row in range(len(l)):\n",
    "    for col in range(len(l)):\n",
    "        print(l[row][col],end=\" \")\n",
    "    print()"
   ]
  },
  {
   "cell_type": "code",
   "execution_count": 30,
   "id": "02b9fdb5-177e-42c0-898a-373f71f90740",
   "metadata": {},
   "outputs": [
    {
     "ename": "TypeError",
     "evalue": "'int' object is not subscriptable",
     "output_type": "error",
     "traceback": [
      "\u001b[1;31m---------------------------------------------------------------------------\u001b[0m",
      "\u001b[1;31mTypeError\u001b[0m                                 Traceback (most recent call last)",
      "\u001b[1;32m~\\AppData\\Local\\Temp\\ipykernel_13012\\2417850156.py\u001b[0m in \u001b[0;36m<module>\u001b[1;34m\u001b[0m\n\u001b[1;32m----> 1\u001b[1;33m \u001b[0ml\u001b[0m \u001b[1;33m=\u001b[0m \u001b[1;33m[\u001b[0m\u001b[0ml\u001b[0m\u001b[1;33m[\u001b[0m\u001b[0mrow\u001b[0m\u001b[1;33m]\u001b[0m\u001b[1;33m[\u001b[0m\u001b[0mcol\u001b[0m\u001b[1;33m]\u001b[0m \u001b[1;32mfor\u001b[0m \u001b[0mrow\u001b[0m \u001b[1;32min\u001b[0m \u001b[0mrange\u001b[0m\u001b[1;33m(\u001b[0m\u001b[0mlen\u001b[0m\u001b[1;33m(\u001b[0m\u001b[0ml\u001b[0m\u001b[1;33m)\u001b[0m\u001b[1;33m)\u001b[0m \u001b[1;32mfor\u001b[0m \u001b[0mcol\u001b[0m \u001b[1;32min\u001b[0m \u001b[0mrange\u001b[0m\u001b[1;33m(\u001b[0m\u001b[0mlen\u001b[0m\u001b[1;33m(\u001b[0m\u001b[0ml\u001b[0m\u001b[1;33m)\u001b[0m\u001b[1;33m)\u001b[0m\u001b[1;33m]\u001b[0m\u001b[1;33m\u001b[0m\u001b[1;33m\u001b[0m\u001b[0m\n\u001b[0m",
      "\u001b[1;32m~\\AppData\\Local\\Temp\\ipykernel_13012\\2417850156.py\u001b[0m in \u001b[0;36m<listcomp>\u001b[1;34m(.0)\u001b[0m\n\u001b[1;32m----> 1\u001b[1;33m \u001b[0ml\u001b[0m \u001b[1;33m=\u001b[0m \u001b[1;33m[\u001b[0m\u001b[0ml\u001b[0m\u001b[1;33m[\u001b[0m\u001b[0mrow\u001b[0m\u001b[1;33m]\u001b[0m\u001b[1;33m[\u001b[0m\u001b[0mcol\u001b[0m\u001b[1;33m]\u001b[0m \u001b[1;32mfor\u001b[0m \u001b[0mrow\u001b[0m \u001b[1;32min\u001b[0m \u001b[0mrange\u001b[0m\u001b[1;33m(\u001b[0m\u001b[0mlen\u001b[0m\u001b[1;33m(\u001b[0m\u001b[0ml\u001b[0m\u001b[1;33m)\u001b[0m\u001b[1;33m)\u001b[0m \u001b[1;32mfor\u001b[0m \u001b[0mcol\u001b[0m \u001b[1;32min\u001b[0m \u001b[0mrange\u001b[0m\u001b[1;33m(\u001b[0m\u001b[0mlen\u001b[0m\u001b[1;33m(\u001b[0m\u001b[0ml\u001b[0m\u001b[1;33m)\u001b[0m\u001b[1;33m)\u001b[0m\u001b[1;33m]\u001b[0m\u001b[1;33m\u001b[0m\u001b[1;33m\u001b[0m\u001b[0m\n\u001b[0m",
      "\u001b[1;31mTypeError\u001b[0m: 'int' object is not subscriptable"
     ]
    }
   ],
   "source": [
    "l = [l[row][col] for row in range(len(l)) for col in range(len(l))]"
   ]
  },
  {
   "cell_type": "code",
   "execution_count": 28,
   "id": "e37a2a49-c20b-426c-ae12-ae0a31a9da6b",
   "metadata": {},
   "outputs": [
    {
     "name": "stdout",
     "output_type": "stream",
     "text": [
      "[9, 9, 9, 9, 9, 9, 9, 9, 9]\n"
     ]
    }
   ],
   "source": [
    "print(l)"
   ]
  },
  {
   "cell_type": "markdown",
   "id": "4a102394-59dd-4c7c-8af9-2bb72269ddcb",
   "metadata": {},
   "source": [
    "# Tuples "
   ]
  },
  {
   "cell_type": "code",
   "execution_count": 51,
   "id": "f8b55930-62ea-4028-a7ef-2966cd035e72",
   "metadata": {},
   "outputs": [
    {
     "name": "stdout",
     "output_type": "stream",
     "text": [
      "<class 'tuple'>\n"
     ]
    }
   ],
   "source": [
    "# There Are Two Ways Of Declaring Tuples\n",
    "# Tuple Is Not Changeble\n",
    "# Comprehension can also b done\n",
    "# Tuple object does not support item assingment \n",
    "data = ('a','b','v',1,2,3,4)\n",
    "print(type(data))\n",
    "\n",
    "data = 'a','b','v',1,2,3,4\n",
    "print(type(data))"
   ]
  },
  {
   "cell_type": "code",
   "execution_count": 52,
   "id": "2d4ae2dc-41b7-4503-83aa-b3a60ff7fd7a",
   "metadata": {},
   "outputs": [
    {
     "data": {
      "text/plain": [
       "(1, 2, 3, 1, 2, 3)"
      ]
     },
     "execution_count": 52,
     "metadata": {},
     "output_type": "execute_result"
    }
   ],
   "source": [
    "# Combining Two Tuples \n",
    "(1,2,3) * 2\n"
   ]
  },
  {
   "cell_type": "markdown",
   "id": "3d53d39e-e0be-497a-b192-e93aedfee4db",
   "metadata": {},
   "source": [
    "# Dictonary"
   ]
  },
  {
   "cell_type": "markdown",
   "id": "98198d09-1828-438e-844e-97eff23b1b4a",
   "metadata": {},
   "source": [
    "* Key Value Pair\n",
    "* Each key should be unique\n",
    "* for structuring the architecture of the system\n",
    "* item\n",
    "    *`key`:`value`\n",
    "    *key = hashable type = int, str\n",
    "    *value any type \n",
    "    * **:** separator between key values\n",
    "    * `,` between items\n",
    " * alot of ways of creating a dictonary\n",
    " "
   ]
  },
  {
   "cell_type": "code",
   "execution_count": 53,
   "id": "d6ad353f-77da-4ebd-b12a-834572ffab9d",
   "metadata": {},
   "outputs": [
    {
     "name": "stdout",
     "output_type": "stream",
     "text": [
      "{}\n"
     ]
    }
   ],
   "source": [
    "d = dict()\n",
    "print(d)"
   ]
  },
  {
   "cell_type": "code",
   "execution_count": 54,
   "id": "7e39805a-8058-4ab0-be49-daf640e32654",
   "metadata": {},
   "outputs": [
    {
     "name": "stdout",
     "output_type": "stream",
     "text": [
      "{'name': 'Faisal', 'cnic': 11232, 'roll number': 22}\n"
     ]
    }
   ],
   "source": [
    "d = {\n",
    "   \"name\":\"Faisal\",\n",
    "    \"cnic\":11232,\n",
    "    \"roll number\":22\n",
    "\n",
    "}\n",
    "\n",
    "print(d)"
   ]
  },
  {
   "cell_type": "code",
   "execution_count": 59,
   "id": "0eace6b3-e81d-4f38-94a5-a0531bec36a3",
   "metadata": {},
   "outputs": [
    {
     "name": "stdout",
     "output_type": "stream",
     "text": [
      "Faisal\n"
     ]
    }
   ],
   "source": [
    "f = d[\"name\"]\n",
    "print(f)"
   ]
  },
  {
   "cell_type": "code",
   "execution_count": 60,
   "id": "392f1d78-b36a-4390-99eb-85c8e14d98e5",
   "metadata": {},
   "outputs": [
    {
     "name": "stdout",
     "output_type": "stream",
     "text": [
      "{1, 2, 3, 4, 5}\n"
     ]
    }
   ],
   "source": [
    "l = [1,2,3,2,1,4,5]\n",
    "j = print(set(l))"
   ]
  },
  {
   "cell_type": "code",
   "execution_count": 61,
   "id": "fa6e57d6-735e-4059-bfab-2e46c3fe078c",
   "metadata": {},
   "outputs": [
    {
     "name": "stdout",
     "output_type": "stream",
     "text": [
      "('ab', [1, 2, 3, 8], 'a')\n"
     ]
    }
   ],
   "source": [
    "## Tuple Not Fully Imutable\n",
    "a = ('ab',[1,2,3],'a')\n",
    "a[1].append(8)\n",
    "print(a)"
   ]
  },
  {
   "cell_type": "code",
   "execution_count": null,
   "id": "acb6587b-e27f-40eb-be20-e2855dc62703",
   "metadata": {},
   "outputs": [],
   "source": []
  }
 ],
 "metadata": {
  "kernelspec": {
   "display_name": "Python 3 (ipykernel)",
   "language": "python",
   "name": "python3"
  },
  "language_info": {
   "codemirror_mode": {
    "name": "ipython",
    "version": 3
   },
   "file_extension": ".py",
   "mimetype": "text/x-python",
   "name": "python",
   "nbconvert_exporter": "python",
   "pygments_lexer": "ipython3",
   "version": "3.9.13"
  }
 },
 "nbformat": 4,
 "nbformat_minor": 5
}
