{
 "cells": [
  {
   "cell_type": "markdown",
   "id": "bf2f1bf9-b12a-4c6a-b944-3376913064b9",
   "metadata": {},
   "source": [
    "# Error Handling\n",
    "\n",
    "* Runtime Error\n",
    "* Exception Making"
   ]
  },
  {
   "cell_type": "code",
   "execution_count": null,
   "id": "b9af5867-fdc4-4c6c-8d21-20b8fa659ccd",
   "metadata": {},
   "outputs": [],
   "source": []
  }
 ],
 "metadata": {
  "kernelspec": {
   "display_name": "Python 3 (ipykernel)",
   "language": "python",
   "name": "python3"
  },
  "language_info": {
   "codemirror_mode": {
    "name": "ipython",
    "version": 3
   },
   "file_extension": ".py",
   "mimetype": "text/x-python",
   "name": "python",
   "nbconvert_exporter": "python",
   "pygments_lexer": "ipython3",
   "version": "3.9.13"
  }
 },
 "nbformat": 4,
 "nbformat_minor": 5
}
