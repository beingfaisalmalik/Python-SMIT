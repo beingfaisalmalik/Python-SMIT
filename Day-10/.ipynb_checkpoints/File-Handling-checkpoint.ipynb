{
 "cells": [
  {
   "cell_type": "markdown",
   "id": "05c11bc2-990a-41ce-8fcc-9930e91ba8d6",
   "metadata": {},
   "source": [
    "# FILE HANDLING IN PYTHON \n",
    "* Particular Package For Opening Partcular Files"
   ]
  },
  {
   "cell_type": "markdown",
   "id": "9d50d049-c348-46e9-a8c2-5b88af51b4d5",
   "metadata": {},
   "source": [
    "### Absolute Path:\n",
    "\n",
    "* Telling From Start Till End About The Location Of The File\n",
    "* Runs Only In Users Own PC Enviroment\n",
    "\n",
    "``C:\\Users\\HP\\Documents\\GitHu\\b.txt``\n",
    "\n",
    "### Relative Path:\n",
    "\n",
    "* Telling The Path In The Project File Limit by Giving The .\\\n",
    "\n",
    "````.\\b.txt````\n",
    "\n",
    "* For Changing The Children Folder\n",
    "````..\\b.txt````"
   ]
  },
  {
   "cell_type": "markdown",
   "id": "77c552fa-50fa-4697-8b11-223e3aa4a96d",
   "metadata": {},
   "source": [
    "# Example One:\n",
    "Read **file1.txt** from the same directory in python "
   ]
  },
  {
   "cell_type": "code",
   "execution_count": 2,
   "id": "69368f4c-b204-4b7b-80c5-abcd62003e87",
   "metadata": {},
   "outputs": [
    {
     "name": "stdout",
     "output_type": "stream",
     "text": [
      "<class '_io.TextIOWrapper'>\n"
     ]
    }
   ],
   "source": [
    "f = open(\"./t.txt\")\n",
    "\n",
    "print(type(f))"
   ]
  },
  {
   "cell_type": "code",
   "execution_count": 5,
   "id": "d0260280-c495-4f34-a254-7627d44e1b9e",
   "metadata": {},
   "outputs": [
    {
     "name": "stdout",
     "output_type": "stream",
     "text": [
      "_CHUNK_SIZE\n",
      "__class__\n",
      "__del__\n",
      "__delattr__\n",
      "__dict__\n",
      "__dir__\n",
      "__doc__\n",
      "__enter__\n",
      "__eq__\n",
      "__exit__\n",
      "__format__\n",
      "__ge__\n",
      "__getattribute__\n",
      "__gt__\n",
      "__hash__\n",
      "__init__\n",
      "__init_subclass__\n",
      "__iter__\n",
      "__le__\n",
      "__lt__\n",
      "__ne__\n",
      "__new__\n",
      "__next__\n",
      "__reduce__\n",
      "__reduce_ex__\n",
      "__repr__\n",
      "__setattr__\n",
      "__sizeof__\n",
      "__str__\n",
      "__subclasshook__\n",
      "_checkClosed\n",
      "_checkReadable\n",
      "_checkSeekable\n",
      "_checkWritable\n",
      "_finalizing\n",
      "buffer\n",
      "close\n",
      "closed\n",
      "detach\n",
      "encoding\n",
      "errors\n",
      "fileno\n",
      "flush\n",
      "isatty\n",
      "line_buffering\n",
      "mode\n",
      "name\n",
      "newlines\n",
      "read\n",
      "readable\n",
      "readline\n",
      "readlines\n",
      "reconfigure\n",
      "seek\n",
      "seekable\n",
      "tell\n",
      "truncate\n",
      "writable\n",
      "write\n",
      "write_through\n",
      "writelines\n"
     ]
    }
   ],
   "source": [
    "f = open(\"./t.txt\")\n",
    "m = dir(f)\n",
    "\n",
    "for i in m:\n",
    "    if i != \"__\":\n",
    "        print(i)\n"
   ]
  },
  {
   "cell_type": "code",
   "execution_count": 6,
   "id": "df87cf0b-03f2-4f95-b699-d6008c3e5383",
   "metadata": {},
   "outputs": [
    {
     "name": "stdout",
     "output_type": "stream",
     "text": [
      "faisal\n"
     ]
    }
   ],
   "source": [
    "f = open(\"./t.txt\")\n",
    "print(f.read()) # Read All Of The Content\n",
    "f.close()"
   ]
  },
  {
   "cell_type": "code",
   "execution_count": 7,
   "id": "6a9fb191-0d2f-4670-812a-bd651a1c2da7",
   "metadata": {},
   "outputs": [
    {
     "name": "stdout",
     "output_type": "stream",
     "text": [
      "faisal\n"
     ]
    }
   ],
   "source": [
    "f = open(\"./t.txt\")\n",
    "print(f.readline()) # Read Only First Liine\n",
    "f.close()"
   ]
  },
  {
   "cell_type": "code",
   "execution_count": 8,
   "id": "6ff9e9c5-7471-477a-a11f-8229784e7855",
   "metadata": {},
   "outputs": [
    {
     "name": "stdout",
     "output_type": "stream",
     "text": [
      "['faisal\\n', 'Malik']\n"
     ]
    }
   ],
   "source": [
    "f = open(\"./t.txt\")\n",
    "print(f.readlines()) # Read All Of The Lines\n",
    "f.close()"
   ]
  },
  {
   "cell_type": "code",
   "execution_count": 9,
   "id": "40b4adf8-44a5-407a-9753-62a54ffb55fc",
   "metadata": {},
   "outputs": [
    {
     "name": "stdout",
     "output_type": "stream",
     "text": [
      "faisal\n",
      "\n",
      "Malik\n"
     ]
    }
   ],
   "source": [
    "f = open(\"./t.txt\")\n",
    "l = f.readlines() # Read All Of The Lines And Append The Them Into List\n",
    "f.close()\n",
    "\n",
    "for i in l:\n",
    "    print(i)"
   ]
  },
  {
   "cell_type": "code",
   "execution_count": null,
   "id": "a729728a-aaf8-4754-a9fc-16557c6bd0cc",
   "metadata": {},
   "outputs": [],
   "source": [
    "f = open(\"./t.txt\")\n",
    "l = f.readlines() # Read All Of The Lines And Append The Them Into List\n",
    "f.close()\n",
    "\n",
    "for i in l:\n",
    "    print(i)"
   ]
  },
  {
   "cell_type": "code",
   "execution_count": 12,
   "id": "88ebdbe9-920b-4c98-ae5a-0cbd917ce133",
   "metadata": {},
   "outputs": [
    {
     "name": "stdout",
     "output_type": "stream",
     "text": [
      "Malik\n"
     ]
    }
   ],
   "source": [
    "f = open(\"./t.txt\")\n",
    "l = f.readlines()[1:] # Read All Of The Lines And Append The Them Into List\n",
    "f.close()\n",
    "\n",
    "for i in l:\n",
    "    print(i)"
   ]
  },
  {
   "cell_type": "markdown",
   "id": "893b3fb1-4a8f-46d2-886f-a1194bba44cd",
   "metadata": {},
   "source": [
    "# Read File From Child Directory \n",
    "* ./folder1/folder2\n"
   ]
  },
  {
   "cell_type": "code",
   "execution_count": 17,
   "id": "2aa7ab06-28d8-4a16-a447-ba8b899c09e1",
   "metadata": {},
   "outputs": [
    {
     "name": "stdout",
     "output_type": "stream",
     "text": [
      "Faisal \n",
      "\n",
      "Faisal \n",
      "\n",
      "Faisal\n"
     ]
    }
   ],
   "source": [
    "f = open(\"./Child1/d.txt\")\n",
    "l = f.readlines()[0:] # Read All Of The Lines And Append The Them Into List\n",
    "f.close()\n",
    "\n",
    "for i in l:\n",
    "    print(i)"
   ]
  },
  {
   "cell_type": "code",
   "execution_count": 18,
   "id": "6b3c93ea-5117-466d-8b40-4df49868bcc5",
   "metadata": {},
   "outputs": [
    {
     "name": "stdout",
     "output_type": "stream",
     "text": [
      "Faisal \n",
      "\n",
      "Faisal\n"
     ]
    }
   ],
   "source": [
    "f = open(\"../Day-10/Child1/d.txt\")\n",
    "l = f.readlines()[1:] # Read All Of The Lines And Append The Them Into List\n",
    "f.close()\n",
    "\n",
    "for i in l:\n",
    "    print(i)"
   ]
  },
  {
   "cell_type": "markdown",
   "id": "6a837b1b-f3f8-4b40-862d-3c77b076dd08",
   "metadata": {},
   "source": [
    "# Now Open File With ``With Block``"
   ]
  },
  {
   "cell_type": "code",
   "execution_count": 25,
   "id": "7b4aea28-d2c2-4849-8e0b-f2f5579cb4ee",
   "metadata": {},
   "outputs": [
    {
     "name": "stdout",
     "output_type": "stream",
     "text": [
      "['faisal\\n', 'Malik']\n"
     ]
    }
   ],
   "source": [
    "l = []\n",
    "with open('./t.txt') as f:\n",
    "    l = f.readlines()\n",
    "\n",
    "print(l)"
   ]
  },
  {
   "cell_type": "code",
   "execution_count": 27,
   "id": "a7606cd1-0a9d-4b70-87b7-1f72b241cab3",
   "metadata": {},
   "outputs": [
    {
     "name": "stdout",
     "output_type": "stream",
     "text": [
      "['aisal\\n', 'Malik']\n"
     ]
    }
   ],
   "source": [
    "# With Seek For Changing The File Character Index\n",
    "l = []\n",
    "with open('./t.txt') as f:\n",
    "    f.seek(1)\n",
    "    l = f.readlines()\n",
    "\n",
    "print(l)"
   ]
  },
  {
   "cell_type": "code",
   "execution_count": 39,
   "id": "ac0580ea-7963-421e-a6e7-8637daa379f3",
   "metadata": {},
   "outputs": [],
   "source": [
    "# Writing The File\n",
    "with open('../Day-10/t.txt', mode='w') as f:\n",
    "        f.write(\"faisal\")"
   ]
  },
  {
   "cell_type": "markdown",
   "id": "6bf5bcab-4518-406c-8b0d-21ba22c5e6a3",
   "metadata": {},
   "source": [
    "## Apeend Method\n",
    "* We Only Had Two Modes Write And Read Thats Why We Only Use"
   ]
  },
  {
   "cell_type": "code",
   "execution_count": 44,
   "id": "eebe443e-1c8a-4c7b-b03c-c7f64425f70e",
   "metadata": {},
   "outputs": [
    {
     "name": "stdin",
     "output_type": "stream",
     "text": [
      "Enter The Name Faisal\n",
      "Enter The Name Faisal\n",
      "Enter The Name x\n"
     ]
    }
   ],
   "source": [
    "# Store User Input In File Using While Loop\n",
    "while True:\n",
    "    name = input(\"Enter The Name\")\n",
    "    if name.lower() == exit or name.lower() == \"x\":\n",
    "                 break\n",
    "    with open('studentName.txt','a') as f:\n",
    "                 f.write(name+\"\\n\")\n",
    "    "
   ]
  },
  {
   "cell_type": "code",
   "execution_count": 45,
   "id": "e2024568-131a-4897-adb2-44ca88d37c6f",
   "metadata": {},
   "outputs": [
    {
     "data": {
      "text/plain": [
       "[1, 2, 3, 4, 5, 6, 7, 8, 9]"
      ]
     },
     "execution_count": 45,
     "metadata": {},
     "output_type": "execute_result"
    }
   ],
   "source": [
    "# it is generator Function\n",
    "list(range(1,10))\n"
   ]
  },
  {
   "cell_type": "code",
   "execution_count": 46,
   "id": "36ca899e-1a13-463a-b8d2-fd6eb93fe814",
   "metadata": {},
   "outputs": [
    {
     "data": {
      "text/plain": [
       "['Faisal\\n', 'ALi\\n', 'sahhid']"
      ]
     },
     "execution_count": 46,
     "metadata": {},
     "output_type": "execute_result"
    }
   ],
   "source": [
    "# it is generator Function\n",
    "list(open('./t.txt'))"
   ]
  },
  {
   "cell_type": "code",
   "execution_count": 49,
   "id": "b41fd9e9-1951-4b66-8443-cdec4f33950b",
   "metadata": {},
   "outputs": [
    {
     "name": "stdout",
     "output_type": "stream",
     "text": [
      "Defaulting to user installation because normal site-packages is not writeable\n"
     ]
    },
    {
     "name": "stderr",
     "output_type": "stream",
     "text": [
      "ERROR: Could not find a version that satisfies the requirement python-opencv (from versions: none)\n",
      "ERROR: No matching distribution found for python-opencv\n"
     ]
    }
   ],
   "source": [
    "!pip install python-opencv"
   ]
  },
  {
   "cell_type": "code",
   "execution_count": null,
   "id": "7d4ab53b-d05d-4b49-b2d7-368477fdd734",
   "metadata": {},
   "outputs": [],
   "source": []
  }
 ],
 "metadata": {
  "kernelspec": {
   "display_name": "Python 3 (ipykernel)",
   "language": "python",
   "name": "python3"
  },
  "language_info": {
   "codemirror_mode": {
    "name": "ipython",
    "version": 3
   },
   "file_extension": ".py",
   "mimetype": "text/x-python",
   "name": "python",
   "nbconvert_exporter": "python",
   "pygments_lexer": "ipython3",
   "version": "3.9.13"
  }
 },
 "nbformat": 4,
 "nbformat_minor": 5
}
