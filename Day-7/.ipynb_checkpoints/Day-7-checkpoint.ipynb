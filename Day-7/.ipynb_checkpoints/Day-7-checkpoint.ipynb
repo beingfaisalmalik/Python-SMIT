{
 "cells": [
  {
   "cell_type": "markdown",
   "id": "b34c42dd-cc41-48b2-a3f0-11e14172e421",
   "metadata": {},
   "source": [
    "# Progrmming Paradigms\n",
    "## Linear Programming \n",
    "** Its Very Fast As Compared to the structerd programming\n",
    "** Write Each And Every Line Without Loops If\n",
    "## Structural Programming\n",
    "** Loops, Conditions, Functions\n",
    "## Object Oriented Programming \n",
    "** Objects Classes "
   ]
  },
  {
   "cell_type": "markdown",
   "id": "e29c9d0f-c477-443b-8519-fdb95c1a8b1a",
   "metadata": {},
   "source": [
    "# Linear Programming\n"
   ]
  },
  {
   "cell_type": "code",
   "execution_count": null,
   "id": "1f871a48-fbc6-4732-aa22-4ddc9b642f8f",
   "metadata": {
    "tags": []
   },
   "outputs": [],
   "source": [
    "print(\"Faisal\")\n",
    "print(\"Ali\")\n",
    "print(\"Mashood\")"
   ]
  },
  {
   "cell_type": "markdown",
   "id": "588f1b3d-1bfb-4f9a-b364-910629054a5b",
   "metadata": {},
   "source": [
    "# Structural Programming "
   ]
  },
  {
   "cell_type": "code",
   "execution_count": 9,
   "id": "9e909034-5e8a-45fd-b2ee-47a144e604c1",
   "metadata": {},
   "outputs": [
    {
     "name": "stdout",
     "output_type": "stream",
     "text": [
      "0123456789\n",
      "0123456789\n",
      "0123456789\n",
      "0123456789\n",
      "0123456789\n",
      "0123456789\n",
      "0123456789\n",
      "0123456789\n",
      "0123456789\n",
      "0123456789\n"
     ]
    }
   ],
   "source": [
    "for i in range(0,10):\n",
    "    for j in range(0,10):\n",
    "        print(j, end='')\n",
    "    print()"
   ]
  },
  {
   "cell_type": "markdown",
   "id": "f9878aa0-c7ce-4f7b-909e-b8747289f9f5",
   "metadata": {},
   "source": [
    "# Controls \n",
    "* if \n",
    "    * else\n",
    "    * elif \n",
    "    \n",
    "* for/while\n",
    "    * break\n",
    "    * continue\n",
    "    * pass\n",
    "    * else\n",
    "* def\n",
    "* try\n",
    "    * except\n",
    "    * else\n",
    "    * finally \n",
    "* class\n",
    "    "
   ]
  },
  {
   "cell_type": "markdown",
   "id": "fe090861-bddb-45b2-bc89-4123a370b67e",
   "metadata": {},
   "source": [
    "# If \n",
    "* else\n",
    "* elif\n",
    "```if logic:\n",
    "        True_block_Body\n",
    "    else:\n",
    "        False_block_Body```\n",
    "<br>\n",
    "```if logic:\n",
    "        True_block_Body\n",
    "   elif:\n",
    "        False_block_Body```"
   ]
  },
  {
   "cell_type": "code",
   "execution_count": 10,
   "id": "4e574502-2c04-4e1e-8333-e8e3ab75abcc",
   "metadata": {},
   "outputs": [
    {
     "name": "stdout",
     "output_type": "stream",
     "text": [
      "b\n"
     ]
    }
   ],
   "source": [
    "if False:\n",
    "    print(\"a\")\n",
    "else: \n",
    "    print(\"b\")"
   ]
  },
  {
   "cell_type": "code",
   "execution_count": 15,
   "id": "2c9cbde5-399f-4ee1-bb18-66ce48f7b8ce",
   "metadata": {},
   "outputs": [
    {
     "name": "stdin",
     "output_type": "stream",
     "text": [
      "Enter The Number You Want To Check 9\n"
     ]
    },
    {
     "name": "stdout",
     "output_type": "stream",
     "text": [
      "9\n",
      "The Number 9 is Odd\n"
     ]
    }
   ],
   "source": [
    "num = int(input(\"Enter The Number You Want To Check\"))\n",
    "print(num)\n",
    "\n",
    "if num % 2 == 0:\n",
    "    print(f\"The Number {num} is Even\")\n",
    "elif num % 2 == 1:\n",
    "    print(f\"The Number {num} is Odd\")"
   ]
  },
  {
   "cell_type": "code",
   "execution_count": 28,
   "id": "191a0826-4cce-47c6-bea7-0d731aeba9a1",
   "metadata": {},
   "outputs": [
    {
     "name": "stdin",
     "output_type": "stream",
     "text": [
      "Enter The Percentage 0\n"
     ]
    },
    {
     "name": "stdout",
     "output_type": "stream",
     "text": [
      "Fail\n"
     ]
    }
   ],
   "source": [
    "per = int(input(\"Enter The Percentage\"))\n",
    "if per >= 80 :\n",
    "          print(\"A Plus\")\n",
    "elif per >= 70:\n",
    "          print(\"A\")\n",
    "elif per >= 60:\n",
    "          print(\"B\")\n",
    "elif per >= 50:\n",
    "          print(\"C\")\n",
    "elif per >= 40:\n",
    "          print(\"D\")\n",
    "else: \n",
    "          print(\"Fail\")"
   ]
  },
  {
   "cell_type": "code",
   "execution_count": 34,
   "id": "3d2b9c5c-7008-4cbd-83dc-e77304cd9da1",
   "metadata": {},
   "outputs": [
    {
     "name": "stdin",
     "output_type": "stream",
     "text": [
      "Enter The Username Admin\n",
      "Enter The Password Admin\n"
     ]
    },
    {
     "name": "stdout",
     "output_type": "stream",
     "text": [
      "Logged In\n"
     ]
    }
   ],
   "source": [
    "username = input(\"Enter The Username\")\n",
    "password = input(\"Enter The Password\")\n",
    "\n",
    "print(\"Logged In\") if username.lower() and password.lower() == \"admin\" else print(\"Invalid\")\n",
    "    \n",
    "\n",
    "    "
   ]
  },
  {
   "cell_type": "markdown",
   "id": "f5156eb0-319c-424e-aebe-6245b8f10567",
   "metadata": {},
   "source": [
    "# LOOPS"
   ]
  },
  {
   "cell_type": "code",
   "execution_count": 35,
   "id": "a9d51720-803b-4d91-a834-eb6477c93c87",
   "metadata": {},
   "outputs": [
    {
     "name": "stdout",
     "output_type": "stream",
     "text": [
      "0 ab\n",
      "1 c\n",
      "2 v\n"
     ]
    }
   ],
   "source": [
    "# Generator direct resultso expose nhi krta tu we use list\n",
    "for index , value in enumerate(['ab','c','v']):\n",
    "    print(index,value)"
   ]
  },
  {
   "cell_type": "markdown",
   "id": "a0c2c618-e1df-4b5f-b9bb-b2707b18dec4",
   "metadata": {},
   "source": [
    "## ASCII\n",
    "### Dealing With ASCII\n",
    "\n",
    "** ord\n",
    "** chr"
   ]
  },
  {
   "cell_type": "code",
   "execution_count": 36,
   "id": "0f41485e-6418-43ac-bba4-69a53b1ab846",
   "metadata": {},
   "outputs": [
    {
     "name": "stdout",
     "output_type": "stream",
     "text": [
      "65\n"
     ]
    }
   ],
   "source": [
    "print(ord(\"A\"))"
   ]
  },
  {
   "cell_type": "code",
   "execution_count": 39,
   "id": "8d9e7dd3-a80b-4ceb-8f2d-e67912e4b755",
   "metadata": {},
   "outputs": [
    {
     "name": "stdout",
     "output_type": "stream",
     "text": [
      "A\n"
     ]
    }
   ],
   "source": [
    "print(chr(65))"
   ]
  },
  {
   "cell_type": "code",
   "execution_count": 46,
   "id": "32913bb2-3b9c-4d2b-957e-3a5a6d685845",
   "metadata": {},
   "outputs": [
    {
     "data": {
      "text/plain": [
       "['B',\n",
       " 'D',\n",
       " 'F',\n",
       " 'H',\n",
       " 'J',\n",
       " 'L',\n",
       " 'N',\n",
       " 'P',\n",
       " 'R',\n",
       " 'T',\n",
       " 'V',\n",
       " 'X',\n",
       " 'Z',\n",
       " 'a',\n",
       " 'b',\n",
       " 'c',\n",
       " 'd',\n",
       " 'e',\n",
       " 'f',\n",
       " 'g',\n",
       " 'h',\n",
       " 'i',\n",
       " 'j',\n",
       " 'k',\n",
       " 'l',\n",
       " 'm',\n",
       " 'n',\n",
       " 'o',\n",
       " 'p',\n",
       " 'q',\n",
       " 'r',\n",
       " 's',\n",
       " 't',\n",
       " 'u',\n",
       " 'v',\n",
       " 'w',\n",
       " 'x',\n",
       " 'y',\n",
       " 'z']"
      ]
     },
     "execution_count": 46,
     "metadata": {},
     "output_type": "execute_result"
    }
   ],
   "source": [
    "[chr(i) for i in range(65,91) if ord(chr(i)) % 2 ==0 ] + [chr(j) for j in range(97,123)] "
   ]
  },
  {
   "cell_type": "markdown",
   "id": "64978779-ede6-47f6-a2e8-f031f2750290",
   "metadata": {},
   "source": [
    "### Control Of Loops "
   ]
  },
  {
   "cell_type": "code",
   "execution_count": 50,
   "id": "5e1fa300-0629-4a88-9ae2-880bb4bc7978",
   "metadata": {},
   "outputs": [
    {
     "name": "stdout",
     "output_type": "stream",
     "text": [
      "1\n",
      "2\n",
      "3\n",
      "4\n",
      "5\n",
      "6\n",
      "7\n",
      "8\n",
      "9\n",
      "10\n"
     ]
    }
   ],
   "source": [
    "for i in range(1,11):\n",
    "    print(i)\n",
    "    if i == 3:\n",
    "        continue\n",
    "        \n",
    "        "
   ]
  },
  {
   "cell_type": "code",
   "execution_count": null,
   "id": "b34088c5-f0db-4aa8-9d56-06d33fac916b",
   "metadata": {},
   "outputs": [],
   "source": []
  }
 ],
 "metadata": {
  "kernelspec": {
   "display_name": "Python 3 (ipykernel)",
   "language": "python",
   "name": "python3"
  },
  "language_info": {
   "codemirror_mode": {
    "name": "ipython",
    "version": 3
   },
   "file_extension": ".py",
   "mimetype": "text/x-python",
   "name": "python",
   "nbconvert_exporter": "python",
   "pygments_lexer": "ipython3",
   "version": "3.9.13"
  }
 },
 "nbformat": 4,
 "nbformat_minor": 5
}
