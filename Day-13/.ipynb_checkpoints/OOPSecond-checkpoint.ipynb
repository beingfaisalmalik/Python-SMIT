{
 "cells": [
  {
   "cell_type": "markdown",
   "id": "f0789668-36e1-4c52-8721-e5caf06e30fc",
   "metadata": {},
   "source": [
    "# Object Oriented Programming "
   ]
  },
  {
   "cell_type": "code",
   "execution_count": 18,
   "id": "1b7e0e05-831c-4164-b545-d6bf63ed3ac2",
   "metadata": {},
   "outputs": [
    {
     "name": "stdout",
     "output_type": "stream",
     "text": [
      "The Name is Faisal\n",
      "The Name is Faisal\n",
      "The Name is Faisal\n",
      "The Name is Faisal\n",
      "Faisal\n",
      "None\n",
      "4\n",
      "4\n",
      "4\n",
      "4\n"
     ]
    }
   ],
   "source": [
    "class Student():\n",
    "    counter = 0\n",
    "    def __init__(self, sname): # Constructor\n",
    "        # Self Attribute = Value;\n",
    "        self.name = sname\n",
    "        \n",
    "        self.father_name = None\n",
    "        Student.counter +=1\n",
    "        print(f'The Name is {sname}')\n",
    "    def Login(self,user,password):\n",
    "        pass\n",
    "s1 = Student(\"Faisal\")\n",
    "s2 = Student(\"Faisal\")\n",
    "s3 = Student(\"Faisal\")\n",
    "s4 = Student(\"Faisal\")\n",
    "print(s1.name)\n",
    "print(s1.father_name)\n",
    "print(s1.counter)\n",
    "print(s2.counter)\n",
    "print(s3.counter)\n",
    "print(s4.counter)"
   ]
  },
  {
   "cell_type": "markdown",
   "id": "5d8cac6a-cdc0-4373-b17f-40bb01fe4595",
   "metadata": {},
   "source": [
    "# Inheritance"
   ]
  },
  {
   "cell_type": "code",
   "execution_count": 15,
   "id": "73fa1031-12a0-4c71-ba2b-f3e76c312f1b",
   "metadata": {},
   "outputs": [
    {
     "name": "stdout",
     "output_type": "stream",
     "text": [
      "Ali\n",
      "3383\n"
     ]
    }
   ],
   "source": [
    "s1.sname = \"Ali\"\n",
    "print(s1.sname)\n",
    "s1.contact = '3383'\n",
    "print(s1.contact)"
   ]
  },
  {
   "cell_type": "code",
   "execution_count": 23,
   "id": "efca04c5-ef24-44ab-aac0-d4308998f1cc",
   "metadata": {},
   "outputs": [
    {
     "name": "stdout",
     "output_type": "stream",
     "text": [
      "faisal\n",
      "Mustafa\n",
      "Spoken : hey\n",
      "faisal is looking Things\n"
     ]
    }
   ],
   "source": [
    "class Parents():\n",
    "    def __init__(self,name,fname):\n",
    "        self.name = name\n",
    "        self.father_name = fname\n",
    "    def speak(self, words):\n",
    "        return f\"Spoken : {words}\"\n",
    "    def look(self,object1):\n",
    "        return f\"{self.name} is looking {object1}\"\n",
    "class Child(Parents):\n",
    "    pass\n",
    "\n",
    "p1 = Parents(\"faisal\",\"Mustafa\")\n",
    "print(p1.name)\n",
    "print(p1.father_name)\n",
    "print(p1.speak(\"hey\"))\n",
    "print(p1.look(\"Things\"))"
   ]
  },
  {
   "cell_type": "code",
   "execution_count": 24,
   "id": "94f229ce-1f3b-44aa-a787-3d494fea2eaa",
   "metadata": {},
   "outputs": [
    {
     "name": "stdout",
     "output_type": "stream",
     "text": [
      "faisal\n",
      "Mustafa\n",
      "Spoken : hey\n",
      "faisal is looking Things\n"
     ]
    }
   ],
   "source": [
    "c1 = Child(\"faisal\",\"Mustafa\")\n",
    "print(c1.name)\n",
    "print(c1.father_name)\n",
    "print(c1.speak(\"hey\"))\n",
    "print(c1.look(\"Things\"))"
   ]
  },
  {
   "cell_type": "code",
   "execution_count": 32,
   "id": "838af0fa-d5cc-488f-b9fc-9346cd7ec212",
   "metadata": {},
   "outputs": [
    {
     "name": "stdout",
     "output_type": "stream",
     "text": [
      "faisal\n",
      "Mustafa\n",
      "Spoken : hey\n",
      "faisal is looking Things\n",
      "faisal Is Reading BOOK!!!\n"
     ]
    }
   ],
   "source": [
    "class Parents(Child):\n",
    "    def __init__(self,name,fname):\n",
    "        self.name = name\n",
    "        self.father_name = fname\n",
    "    def speak(self, words):\n",
    "        return f\"Spoken : {words}\"\n",
    "    def look(self,object1):\n",
    "        return f\"{self.name} is looking {object1}\"\n",
    "\n",
    "class Child(Parents):\n",
    "    def __init__(self,name,fname,age):\n",
    "        super().__init__(name,fname)\n",
    "    def Reading(self,context):\n",
    "        return f\"{self.name} Is Reading {context}!!!\"\n",
    "        \n",
    "\n",
    "p1 = Parents(\"faisal\",\"Mustafa\")\n",
    "c1 = Child(\"faisal\",\"Mustafa\")\n",
    "print(p1.name)\n",
    "print(p1.father_name)\n",
    "print(p1.speak(\"hey\"))\n",
    "print(p1.look(\"Things\"))\n",
    "print(p1.Reading(\"BOOK\"))"
   ]
  },
  {
   "cell_type": "code",
   "execution_count": 35,
   "id": "8849ce63-2126-4a1b-8f37-11acf865afbe",
   "metadata": {},
   "outputs": [
    {
     "name": "stdout",
     "output_type": "stream",
     "text": [
      "Reading\n",
      "look\n",
      "name\n",
      "speak\n"
     ]
    },
    {
     "data": {
      "text/plain": [
       "['Reading', 'look', 'name', 'speak']"
      ]
     },
     "execution_count": 35,
     "metadata": {},
     "output_type": "execute_result"
    }
   ],
   "source": [
    "m = dir(c1)\n",
    "for i in m:\n",
    "    if '_' not in i:\n",
    "        print(i)\n",
    "[i for i in dir(c1) if \"_\" not in i]"
   ]
  },
  {
   "cell_type": "markdown",
   "id": "10639829-259c-4a36-8cc6-a293b85c9710",
   "metadata": {},
   "source": [
    "\n",
    "# Polymorphism\n",
    "* Overloading(Same Names Of Methods The Diffrentitor is Different Arguments) <br> \n",
    "* OverRidding(Same Name Of Methods In Different Class)\n"
   ]
  },
  {
   "cell_type": "code",
   "execution_count": 40,
   "id": "d63ecbee-69ea-485b-bab5-d74fe02aabee",
   "metadata": {},
   "outputs": [
    {
     "data": {
      "text/plain": [
       "3"
      ]
     },
     "execution_count": 40,
     "metadata": {},
     "output_type": "execute_result"
    }
   ],
   "source": [
    "class Parent():\n",
    "    def __init__(self):\n",
    "        pass\n",
    "    def addtwonumbers(self, n1, n2):\n",
    "        return n1+ n2\n",
    "\n",
    "c1 = Parent()\n",
    "c1.addtwonumbers(1,2)\n",
    "           \n",
    "        "
   ]
  },
  {
   "cell_type": "code",
   "execution_count": 50,
   "id": "06eda2d9-1e92-4e34-8f9d-2686d4f3fcb6",
   "metadata": {},
   "outputs": [],
   "source": [
    "#OverRiding\n",
    "class Parentt():\n",
    "    def __init__(self):\n",
    "        pass\n",
    "    \n",
    "    def speak(self,language=\"Urdu\"):\n",
    "        return f\"I Can Speak {language}\""
   ]
  },
  {
   "cell_type": "code",
   "execution_count": 57,
   "id": "256ce595-7649-4409-80d6-b4c93a75960b",
   "metadata": {},
   "outputs": [],
   "source": [
    "class Childd(Parentt):\n",
    "    def sepak(self, language = \"English\"):\n",
    "        return f\"I Can Speak {language}\""
   ]
  },
  {
   "cell_type": "code",
   "execution_count": 58,
   "id": "bc3f48f7-fa27-42ee-b532-06c3323046a2",
   "metadata": {},
   "outputs": [
    {
     "data": {
      "text/plain": [
       "'I Can Speak Urdu'"
      ]
     },
     "execution_count": 58,
     "metadata": {},
     "output_type": "execute_result"
    }
   ],
   "source": [
    "\n",
    "p = Parentt()\n",
    "p.speak()\n"
   ]
  },
  {
   "cell_type": "code",
   "execution_count": 59,
   "id": "f7d36447-7f20-476b-b143-9d544434f94e",
   "metadata": {},
   "outputs": [
    {
     "data": {
      "text/plain": [
       "'I Can Speak Urdu'"
      ]
     },
     "execution_count": 59,
     "metadata": {},
     "output_type": "execute_result"
    }
   ],
   "source": [
    "c = Childd()\n",
    "c.speak()"
   ]
  },
  {
   "cell_type": "markdown",
   "id": "51a9d028-df9f-47ef-8812-5c1caa7093eb",
   "metadata": {},
   "source": [
    "# Encapsulation \n",
    " * make some methods private \n",
    "     ** we can only accees with in Class Or in Child Class\n",
    "     ** Fo Maing Anything Private We Use __\n",
    " * we can change or access these private attributes using getter setters\n",
    " "
   ]
  },
  {
   "cell_type": "code",
   "execution_count": 82,
   "id": "a5fb1ad5-791d-4419-8d7b-d9dfb932170b",
   "metadata": {},
   "outputs": [
    {
     "ename": "AttributeError",
     "evalue": "'Parents' object has no attribute '__Parents'",
     "output_type": "error",
     "traceback": [
      "\u001b[1;31m---------------------------------------------------------------------------\u001b[0m",
      "\u001b[1;31mAttributeError\u001b[0m                            Traceback (most recent call last)",
      "\u001b[1;32m~\\AppData\\Local\\Temp\\ipykernel_10564\\2091309319.py\u001b[0m in \u001b[0;36m<module>\u001b[1;34m\u001b[0m\n\u001b[0;32m     12\u001b[0m \u001b[1;33m\u001b[0m\u001b[0m\n\u001b[0;32m     13\u001b[0m \u001b[0mp1\u001b[0m \u001b[1;33m=\u001b[0m \u001b[0mParents\u001b[0m\u001b[1;33m(\u001b[0m\u001b[1;34m\"faisal\"\u001b[0m\u001b[1;33m,\u001b[0m\u001b[1;34m\"Mustafa\"\u001b[0m\u001b[1;33m,\u001b[0m\u001b[1;36m10\u001b[0m\u001b[1;33m)\u001b[0m\u001b[1;33m\u001b[0m\u001b[1;33m\u001b[0m\u001b[0m\n\u001b[1;32m---> 14\u001b[1;33m \u001b[0mp1\u001b[0m\u001b[1;33m.\u001b[0m\u001b[0m__Parents\u001b[0m\u001b[1;33m.\u001b[0m\u001b[0mid\u001b[0m\u001b[1;33m\u001b[0m\u001b[1;33m\u001b[0m\u001b[0m\n\u001b[0m",
      "\u001b[1;31mAttributeError\u001b[0m: 'Parents' object has no attribute '__Parents'"
     ]
    }
   ],
   "source": [
    "class Parents():\n",
    "    def __init__(self,name,fname,id):\n",
    "        self.__sid = id #private\n",
    "        self.name = name # public \n",
    "        self.father_name = fname # Public \n",
    "    def speak(self, words):\n",
    "        return f\"Spoken : {words}\"\n",
    "    def look(self, o):\n",
    "        return f\"Stuudent id {this.id} And Name {self.name} is looking {o}\"\n",
    "\n",
    "    \n",
    "\n",
    "p1 = Parents(\"faisal\",\"Mustafa\",10)\n",
    "p1.__Parents.id"
   ]
  },
  {
   "cell_type": "code",
   "execution_count": 79,
   "id": "8225c1a1-9127-4364-ab83-4807a9cf0ccf",
   "metadata": {},
   "outputs": [],
   "source": [
    "class Child(Parents):\n",
    "    def __init__(self,name,fname,age):\n",
    "        super().__init__(name,fname,id)\n",
    "    def Reading(self,context):\n",
    "        return f\"{self.name} Is Reading {context}!!!\"\n",
    "        "
   ]
  },
  {
   "cell_type": "code",
   "execution_count": 87,
   "id": "91b4f714-ee22-4d90-8a9a-7f0dba2f85eb",
   "metadata": {},
   "outputs": [
    {
     "data": {
      "text/plain": [
       "'Name is Faisal Age is 20'"
      ]
     },
     "execution_count": 89,
     "metadata": {},
     "output_type": "execute_result"
    }
   ],
   "source": [
    "# Abstraction\n",
    "# In 2.0 if WE Dont ut () in Class class will be abstract\n",
    "from abc import ABC , abstractmethod\n",
    "class Human(ABC):\n",
    "    @abstractmethod\n",
    "    def __init__(self): #apply decorator on constructor method\n",
    "        self.name = None\n",
    "        self.fname = None\n",
    "        self.age = None\n",
    "        self.language = None\n",
    "            \n",
    "    def display(self,name,age):\n",
    "        return f\"Name is {name} Age is {age}\"\n",
    "\n",
    "class Male(Human):\n",
    "    def __init__(self):\n",
    "        self.name = None\n",
    "        self.fname = None\n",
    "        self.age = None\n",
    "        self.language = None\n",
    "\n",
    "m = Male()\n",
    "m.display(\"Faisal\",\"20\")\n"
   ]
  },
  {
   "cell_type": "code",
   "execution_count": null,
   "id": "90aef605-4de0-4efb-931d-e100055f7375",
   "metadata": {},
   "outputs": [],
   "source": []
  }
 ],
 "metadata": {
  "kernelspec": {
   "display_name": "Python 3 (ipykernel)",
   "language": "python",
   "name": "python3"
  },
  "language_info": {
   "codemirror_mode": {
    "name": "ipython",
    "version": 3
   },
   "file_extension": ".py",
   "mimetype": "text/x-python",
   "name": "python",
   "nbconvert_exporter": "python",
   "pygments_lexer": "ipython3",
   "version": "3.9.13"
  }
 },
 "nbformat": 4,
 "nbformat_minor": 5
}
