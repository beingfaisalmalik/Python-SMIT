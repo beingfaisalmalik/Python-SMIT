{
 "cells": [
  {
   "cell_type": "markdown",
   "id": "724a2efa-094b-4c67-bec1-f8d5ecc0f1c5",
   "metadata": {},
   "source": [
    "# Regular Expression \n",
    "* Used Mostly For NLP\n",
    "* Patterns Recognization\n",
    "* Data Decoding For Getting Missing Value Is Called Data Analysis\n",
    "* Repython\n",
    "\n",
    "## Copying Data\n",
    "## Replacing Data\n",
    "\n",
    "* Functions <br>\n",
    "        `Pattern`\n",
    "        `varibale to find from`\n",
    "        `Replacment Pattern`"
   ]
  },
  {
   "cell_type": "code",
   "execution_count": 1,
   "id": "fe8b0a86-a4e6-4c13-92b3-4e8d1f2392b9",
   "metadata": {},
   "outputs": [],
   "source": [
    "import re\n"
   ]
  },
  {
   "cell_type": "code",
   "execution_count": 10,
   "id": "97b7067f-9410-4add-9a14-e917dcfb71b5",
   "metadata": {},
   "outputs": [],
   "source": [
    "text =\"\"\"\n",
    "Faisal Malik\n",
    "i'm Living In Karachi\n",
    "\"\"\""
   ]
  },
  {
   "cell_type": "code",
   "execution_count": 11,
   "id": "3063c8d2-ae03-4841-9d42-3a3724acac78",
   "metadata": {},
   "outputs": [
    {
     "data": {
      "text/plain": [
       "['a', 'a', 'a']"
      ]
     },
     "execution_count": 11,
     "metadata": {},
     "output_type": "execute_result"
    }
   ],
   "source": [
    "re.findall('a', text)"
   ]
  },
  {
   "cell_type": "code",
   "execution_count": 14,
   "id": "6c71a85a-73f4-49c0-92d1-d0de1bbd5b3e",
   "metadata": {},
   "outputs": [
    {
     "name": "stdout",
     "output_type": "stream",
     "text": [
      "['al', 'al']\n",
      "['ai', 'al', 'al']\n"
     ]
    }
   ],
   "source": [
    "print(re.findall('al',text))\n",
    "print(re.findall('a[il]',text)) #Or For Group of Characters"
   ]
  },
  {
   "cell_type": "code",
   "execution_count": 23,
   "id": "e7809dfe-7097-43c9-800c-51e8e409e7cd",
   "metadata": {},
   "outputs": [
    {
     "name": "stdout",
     "output_type": "stream",
     "text": [
      "['aylan', 'ainin']\n",
      "['ali', 'ani', 'aUi']\n",
      "['ivin', 'inin']\n",
      "['l M']\n",
      "['aylan', 'ainin', 'ajn', 'ajkn']\n",
      "['aisal Malik', 'arachi', 'aylani Mass IT Training', 'aaaaaaUiHHHH', 'ajn ajkn ajsdffcn', 'abcd a']\n"
     ]
    }
   ],
   "source": [
    "#flag 0 Means Sensitive Case\n",
    "text =\"\"\"\n",
    "Faisal Malik\n",
    "i'm Living In Karachi\n",
    "Saylani Mass IT Training\n",
    "hellow world aaaaaaUiHHHH\n",
    "ajn ajkn ajsdffcn\n",
    "abcd a\n",
    "i\n",
    "\"\"\"\n",
    "print(re.findall('a.{3}n',text)) # Fixing characters\n",
    "print(re.findall('a.i',text)) #dot Means Backslash kay ilawaa\n",
    "print(re.findall('i..n',text))\n",
    "print(re.findall('l.M',text))\n",
    "print(re.findall('a.{1,5}n',text)) # Fixing Minimum And Maximum Characters\n",
    "# Minimum Maximum Characters\n",
    "print(re.findall('a.+',text)) #isy phele a aik dafa lazmi aye beaing on backslash \\n\n",
    "print(re.findall('a.*',text)) # Zero to Many 1 dafa lazmi na bhi aye"
   ]
  },
  {
   "cell_type": "code",
   "execution_count": 28,
   "id": "c176059a-7f07-436b-86a8-1d51d4c3a7ce",
   "metadata": {},
   "outputs": [
    {
     "name": "stdout",
     "output_type": "stream",
     "text": [
      "['ai1', 'ai4', 'ai5', 'ai5', 'ai0']\n",
      "['ai1235', 'ai4235', 'ai5235', 'ai5235', 'ai001']\n",
      "['ai1235', 'ai4235', 'ai5235', 'ai5235', 'ai', 'ai001']\n",
      "['ai1235', 'ai4235', 'ai5235', 'ai5235', 'ai001']\n"
     ]
    }
   ],
   "source": [
    "#flag 0 Means Sensitive Case\n",
    "text =\"\"\"\n",
    "pakistan zinda bad!\n",
    "ai1235\n",
    "ai4235\n",
    "ai5235\n",
    "ai5235 dsds\n",
    "aifed\n",
    "ai001\n",
    "\"\"\"\n",
    "print(re.findall('ai[0-9]',text)) # [] represents only 1 char\n",
    "print(re.findall('ai[0-9]+',text)) \n",
    "print(re.findall('ai[0-9]*',text)) \n",
    "print(re.findall('ai[0-9]{2,5}',text)) "
   ]
  },
  {
   "cell_type": "code",
   "execution_count": 37,
   "id": "707506e1-8a0a-421b-a884-49a53779223b",
   "metadata": {},
   "outputs": [
    {
     "name": "stdout",
     "output_type": "stream",
     "text": [
      "['0308-3383117', '03043831111', '0092123-3831111']\n"
     ]
    }
   ],
   "source": [
    "# For Question Mark\n",
    "text = \"\"\"\n",
    "0308-3383117\n",
    "03043831111\n",
    "+92308-3383117\n",
    "0092123-3831111\n",
    "hello world ... 12332\n",
    "\"\"\"\n",
    "\n",
    "print(re.findall('^\\d.+\\d$',text,re.MULTILINE))"
   ]
  },
  {
   "cell_type": "code",
   "execution_count": 54,
   "id": "814d03df-45d6-4d97-8c4e-7c662e5e9bfa",
   "metadata": {},
   "outputs": [
    {
     "name": "stdout",
     "output_type": "stream",
     "text": [
      "['0308-3383117', '03043831111', '92308-3383117', '0092123-3831111', '03118411375']\n"
     ]
    }
   ],
   "source": [
    "# For Boundary\n",
    "text = \"\"\"\n",
    "0308-3383117\n",
    "03043831111\n",
    "+92308-3383117\n",
    "0092123-3831111\n",
    "hello world is 03118411375\n",
    "\"\"\"\n",
    "print(re.findall(r'\\b\\+?\\d{4,7}-?\\d{7}\\b',text))"
   ]
  },
  {
   "cell_type": "code",
   "execution_count": 57,
   "id": "2b8447fd-e6f7-4eda-aa4d-d41fecafc876",
   "metadata": {},
   "outputs": [
    {
     "name": "stdout",
     "output_type": "stream",
     "text": [
      "['pakistan', 'pakistan', 'panin', 'avccvn']\n"
     ]
    }
   ],
   "source": [
    "text = \"pakistan pakistan hi panin avccvn\"\n",
    "print(re.findall(r'\\b[pa][A-z]*n\\b',text))"
   ]
  },
  {
   "cell_type": "code",
   "execution_count": null,
   "id": "fa69d13a-3fba-4253-9852-b67a95bdc147",
   "metadata": {},
   "outputs": [],
   "source": [
    "# Round Brackets\n",
    "# For extracting particular word from the boundary\n"
   ]
  }
 ],
 "metadata": {
  "kernelspec": {
   "display_name": "Python 3 (ipykernel)",
   "language": "python",
   "name": "python3"
  },
  "language_info": {
   "codemirror_mode": {
    "name": "ipython",
    "version": 3
   },
   "file_extension": ".py",
   "mimetype": "text/x-python",
   "name": "python",
   "nbconvert_exporter": "python",
   "pygments_lexer": "ipython3",
   "version": "3.9.13"
  }
 },
 "nbformat": 4,
 "nbformat_minor": 5
}
