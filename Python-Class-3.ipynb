{
 "cells": [
  {
   "cell_type": "markdown",
   "id": "b7f2eeb8",
   "metadata": {},
   "source": [
    "# Python Day 3\n"
   ]
  },
  {
   "cell_type": "markdown",
   "id": "ece749f0",
   "metadata": {},
   "source": [
    "### Text formatting / formation/concatination\n"
   ]
  },
  {
   "cell_type": "code",
   "execution_count": null,
   "id": "4ff174a0",
   "metadata": {},
   "outputs": [],
   "source": [
    "# no space beacuse of the separator\n"
   ]
  },
  {
   "cell_type": "markdown",
   "id": "b6ca5c31",
   "metadata": {},
   "source": [
    "# Rules For Python Variables : \n",
    "\n",
    "* A variable name must start with a letter or the underscore character\n",
    "* A variable name cannot start with a number\n",
    "* A variable name can only contain alpha-numeric characters and underscores (A-z, 0-9, and _ )\n",
    "* Variable names are case-sensitive (age, Age and AGE are three different variables)\n",
    "* A variable name cannot be any of the Python keywords."
   ]
  },
  {
   "cell_type": "code",
   "execution_count": 44,
   "id": "dd445fc4",
   "metadata": {},
   "outputs": [
    {
     "name": "stdout",
     "output_type": "stream",
     "text": [
      "Muhammad Faisal\n"
     ]
    }
   ],
   "source": [
    "student_name = 'Muhammad Faisal'\n",
    "print(student_name)"
   ]
  },
  {
   "cell_type": "code",
   "execution_count": 46,
   "id": "c18acbd6",
   "metadata": {},
   "outputs": [
    {
     "name": "stdout",
     "output_type": "stream",
     "text": [
      "6\n"
     ]
    }
   ],
   "source": [
    "# Return and non Return\n",
    "# isky answer ko varible mai dal sken it is returnin some variable\n",
    "a = len(\"Faisal\")\n",
    "print(a)"
   ]
  },
  {
   "cell_type": "code",
   "execution_count": 47,
   "id": "b57ac54d",
   "metadata": {},
   "outputs": [
    {
     "name": "stdout",
     "output_type": "stream",
     "text": [
      "Faisal\n",
      "None\n",
      "None\n"
     ]
    }
   ],
   "source": [
    "# Non Return fucntion\n",
    "b = print('Faisal')\n",
    "print(b)\n",
    "print(b)"
   ]
  },
  {
   "cell_type": "code",
   "execution_count": null,
   "id": "f7a56d4c",
   "metadata": {},
   "outputs": [],
   "source": [
    "\"\"\"\n",
    "Saylani Mass IT\n",
    "Muhammad Faisal\n",
    "\n",
    "\"\"\"\n"
   ]
  },
  {
   "cell_type": "markdown",
   "id": "b41321e4",
   "metadata": {},
   "source": [
    "# Concatination\n",
    "## Using The F Method"
   ]
  },
  {
   "cell_type": "code",
   "execution_count": 59,
   "id": "2f27654c",
   "metadata": {},
   "outputs": [
    {
     "name": "stdout",
     "output_type": "stream",
     "text": [
      "Name: Muhammad Faisal Malik  \n",
      "Institute Name : Saylani Mass IT Training \n",
      "Age: 23\n"
     ]
    }
   ],
   "source": [
    "# Using The F Method\n",
    "first_name = \"Muhammad Faisal\"\n",
    "last_name = \"Malik \"\n",
    "institute_name = \"Saylani Mass IT Training\"\n",
    "age = 23\n",
    "card = f\"Name: {first_name} {last_name} \\nInstitute Name : {institute_name} \\nAge: {age}\"\n",
    "print(card)"
   ]
  },
  {
   "cell_type": "markdown",
   "id": "2dcf3c3b",
   "metadata": {},
   "source": [
    "## Traditional Plus (+) Method"
   ]
  },
  {
   "cell_type": "code",
   "execution_count": 57,
   "id": "db995f8d",
   "metadata": {},
   "outputs": [
    {
     "name": "stdout",
     "output_type": "stream",
     "text": [
      "Name: Muhammad Faisal\n",
      "Institute Name :Saylani Mass IT Training\n"
     ]
    }
   ],
   "source": [
    "#Traditional Method with string only\n",
    "card = \"Name: \"+ first_name +\"\\nInstitute Name :\"+institute_name\n",
    "print(card)"
   ]
  },
  {
   "cell_type": "code",
   "execution_count": 60,
   "id": "120d8b15",
   "metadata": {},
   "outputs": [
    {
     "ename": "TypeError",
     "evalue": "can only concatenate str (not \"int\") to str",
     "output_type": "error",
     "traceback": [
      "\u001b[1;31m---------------------------------------------------------------------------\u001b[0m",
      "\u001b[1;31mTypeError\u001b[0m                                 Traceback (most recent call last)",
      "\u001b[1;32m~\\AppData\\Local\\Temp\\ipykernel_2620\\1664187836.py\u001b[0m in \u001b[0;36m<module>\u001b[1;34m\u001b[0m\n\u001b[0;32m      1\u001b[0m \u001b[1;31m# Traditional Method with The Error Of Int\u001b[0m\u001b[1;33m\u001b[0m\u001b[1;33m\u001b[0m\u001b[0m\n\u001b[0;32m      2\u001b[0m \u001b[1;31m#Traditional Method with string only\u001b[0m\u001b[1;33m\u001b[0m\u001b[1;33m\u001b[0m\u001b[0m\n\u001b[1;32m----> 3\u001b[1;33m \u001b[0mcard\u001b[0m \u001b[1;33m=\u001b[0m \u001b[1;34m\"Name: \"\u001b[0m\u001b[1;33m+\u001b[0m \u001b[0mfirst_name\u001b[0m \u001b[1;33m+\u001b[0m\u001b[1;34m\"\\nInstitute Name :\"\u001b[0m\u001b[1;33m+\u001b[0m\u001b[0minstitute_name\u001b[0m\u001b[1;33m+\u001b[0m \u001b[1;34m\"\\nAge: \"\u001b[0m\u001b[1;33m+\u001b[0m\u001b[0mage\u001b[0m\u001b[1;33m\u001b[0m\u001b[1;33m\u001b[0m\u001b[0m\n\u001b[0m\u001b[0;32m      4\u001b[0m \u001b[0mprint\u001b[0m\u001b[1;33m(\u001b[0m\u001b[0mcard\u001b[0m\u001b[1;33m)\u001b[0m\u001b[1;33m\u001b[0m\u001b[1;33m\u001b[0m\u001b[0m\n",
      "\u001b[1;31mTypeError\u001b[0m: can only concatenate str (not \"int\") to str"
     ]
    }
   ],
   "source": [
    "# Traditional Method with The Error Of Int\n",
    "#Traditional Method with string only\n",
    "card = \"Name: \"+ first_name +\"\\nInstitute Name :\"+institute_name+ \"\\nAge: \"+age\n",
    "print(card)"
   ]
  },
  {
   "cell_type": "code",
   "execution_count": 61,
   "id": "573e2d43",
   "metadata": {},
   "outputs": [
    {
     "name": "stdout",
     "output_type": "stream",
     "text": [
      "Name: Muhammad Faisal\n",
      "Institute Name :Saylani Mass IT Training\n",
      "Age: 23\n"
     ]
    }
   ],
   "source": [
    "# Traditional Method with The TypeCasting Of Int\n",
    "#Traditional Method with string only\n",
    "card = \"Name: \"+ first_name +\"\\nInstitute Name :\"+institute_name+ \"\\nAge: \"+str(age)\n",
    "print(card)"
   ]
  },
  {
   "cell_type": "markdown",
   "id": "aae330ac",
   "metadata": {},
   "source": [
    "## The Format Method"
   ]
  },
  {
   "cell_type": "code",
   "execution_count": 65,
   "id": "5dc0a2df",
   "metadata": {},
   "outputs": [
    {
     "name": "stdout",
     "output_type": "stream",
     "text": [
      "\n",
      "Institute Name :Saylani Mass IT Training\n",
      "Name :  Muhammad Faisal Malik \n",
      "Age : 23\n",
      "\n",
      "\n"
     ]
    }
   ],
   "source": [
    "# The Format Method\n",
    "Card2 = \"\"\"\n",
    "Institute Name :{}\n",
    "Name :  {} {}\n",
    "Age : {}\n",
    "\n",
    "\"\"\".format(institute_name,first_name,last_name,age)\n",
    "print(Card2)"
   ]
  },
  {
   "cell_type": "code",
   "execution_count": 67,
   "id": "76897d5b",
   "metadata": {},
   "outputs": [
    {
     "name": "stdout",
     "output_type": "stream",
     "text": [
      "\n",
      "Institute Name :23\n",
      "Name :  Malik  Muhammad Faisal\n",
      "Age : Saylani Mass IT Training\n",
      "\n",
      "\n"
     ]
    }
   ],
   "source": [
    "# The Format Method Without Sequence\n",
    "# The Format Method\n",
    "Card2 = \"\"\"\n",
    "Institute Name :{3}\n",
    "Name :  {2} {1}\n",
    "Age : {0}\n",
    "\n",
    "\"\"\".format(institute_name,first_name,last_name,age)\n",
    "print(Card2)"
   ]
  },
  {
   "cell_type": "markdown",
   "id": "b03810f6",
   "metadata": {},
   "source": [
    "# With F"
   ]
  },
  {
   "cell_type": "code",
   "execution_count": 68,
   "id": "45a22b4a",
   "metadata": {},
   "outputs": [
    {
     "name": "stdout",
     "output_type": "stream",
     "text": [
      "\n",
      "Institute Name :Saylani Mass IT Training\n",
      "Name :  Muhammad Faisal Malik \n",
      "Age : 23\n",
      "\n",
      "\n"
     ]
    }
   ],
   "source": [
    "# The F Method By Sir\n",
    "Card2 = f\"\"\"\n",
    "Institute Name :{institute_name}\n",
    "Name :  {first_name} {last_name}\n",
    "Age : {age}\n",
    "\n",
    "\"\"\"\n",
    "print(Card2)"
   ]
  },
  {
   "cell_type": "markdown",
   "id": "0da9e011",
   "metadata": {},
   "source": [
    "# The % Method"
   ]
  },
  {
   "cell_type": "code",
   "execution_count": 70,
   "id": "3c7bcb33",
   "metadata": {},
   "outputs": [
    {
     "name": "stdout",
     "output_type": "stream",
     "text": [
      "\n",
      "Institute Name :Saylani Mass IT Training\n",
      "Name :  Muhammad Faisal Malik \n",
      "Age : 23\n",
      "\n",
      "\n"
     ]
    }
   ],
   "source": [
    "Card2 = \"\"\"\n",
    "Institute Name :%s\n",
    "Name :  %s %s\n",
    "Age : %d\n",
    "\n",
    "\"\"\"%(institute_name,first_name,last_name,age)\n",
    "print(Card2)"
   ]
  },
  {
   "cell_type": "code",
   "execution_count": 77,
   "id": "de7e9b80",
   "metadata": {},
   "outputs": [
    {
     "name": "stdout",
     "output_type": "stream",
     "text": [
      "0 capitalize\n",
      "1 casefold\n",
      "2 center\n",
      "3 count\n",
      "4 encode\n",
      "5 endswith\n",
      "6 expandtabs\n",
      "7 find\n",
      "8 format\n",
      "9 index\n",
      "10 isalnum\n",
      "11 isalpha\n",
      "12 isascii\n",
      "13 isdecimal\n",
      "14 isdigit\n",
      "15 isidentifier\n",
      "16 islower\n",
      "17 isnumeric\n",
      "18 isprintable\n",
      "19 isspace\n",
      "20 istitle\n",
      "21 isupper\n",
      "22 join\n",
      "23 ljust\n",
      "24 lower\n",
      "25 lstrip\n",
      "26 maketrans\n",
      "27 partition\n",
      "28 removeprefix\n",
      "29 removesuffix\n",
      "30 replace\n",
      "31 rfind\n",
      "32 rindex\n",
      "33 rjust\n",
      "34 rpartition\n",
      "35 rsplit\n",
      "36 rstrip\n",
      "37 split\n",
      "38 splitlines\n",
      "39 startswith\n",
      "40 strip\n",
      "41 swapcase\n",
      "42 title\n",
      "43 translate\n",
      "44 upper\n",
      "45 zfill\n"
     ]
    }
   ],
   "source": [
    "# for seeing method attribute\n",
    "#That changes it is inline \n",
    "# That changes The Memory Is \n",
    "j=0\n",
    "method = dir(Card2)\n",
    "for i in method:\n",
    "    if \"_\" not in i:\n",
    "        print(j,i)\n",
    "        j = j+1"
   ]
  },
  {
   "cell_type": "code",
   "execution_count": 90,
   "id": "4dc014e6",
   "metadata": {},
   "outputs": [
    {
     "name": "stdout",
     "output_type": "stream",
     "text": [
      "False\n",
      "2\n",
      "\n",
      "INSTITUTE NAME :SAYLANI MASS IT TRAINING\n",
      "NAME :  MUHAMMAD FAISAL MALIK \n",
      "AGE : 23\n",
      "\n",
      "\n",
      "0\n",
      "b'Muhammad Faisal'\n"
     ]
    }
   ],
   "source": [
    "print(Card2.isdigit())\n",
    "#How Many Times Name Is Written\n",
    "print(Card2.count(\"Name\"))\n",
    "print(Card2.upper())\n",
    "#Chain Rule\n",
    "print(Card2.casefold().count('FAISAL'))\n",
    "print(first_name.encode(encoding=\"ascii\"))"
   ]
  },
  {
   "cell_type": "markdown",
   "id": "336e97e7",
   "metadata": {},
   "source": [
    "# Home Work\n",
    "#### Apply 45 String Metods On Card Method\n"
   ]
  },
  {
   "cell_type": "code",
   "execution_count": 94,
   "id": "66a097ab",
   "metadata": {},
   "outputs": [
    {
     "name": "stdout",
     "output_type": "stream",
     "text": [
      "['', 'Institute Name :Saylani Mass IT Training', 'Name :  Muhammad Faisal Malik ', 'Age : 23', '', '']\n"
     ]
    }
   ],
   "source": [
    "print(Card2.split(\"\\n\"))"
   ]
  }
 ],
 "metadata": {
  "kernelspec": {
   "display_name": "Python 3 (ipykernel)",
   "language": "python",
   "name": "python3"
  },
  "language_info": {
   "codemirror_mode": {
    "name": "ipython",
    "version": 3
   },
   "file_extension": ".py",
   "mimetype": "text/x-python",
   "name": "python",
   "nbconvert_exporter": "python",
   "pygments_lexer": "ipython3",
   "version": "3.9.13"
  }
 },
 "nbformat": 4,
 "nbformat_minor": 5
}
