{
 "cells": [
  {
   "cell_type": "code",
   "execution_count": 1,
   "id": "91dddb68-1420-4b72-82fe-771f5e506001",
   "metadata": {},
   "outputs": [],
   "source": [
    "from MyPacakage import functions"
   ]
  },
  {
   "cell_type": "code",
   "execution_count": 3,
   "id": "e8b7305a-2f40-4aa0-9d6f-67cadccd740a",
   "metadata": {},
   "outputs": [
    {
     "name": "stdout",
     "output_type": "stream",
     "text": [
      "3\n"
     ]
    }
   ],
   "source": [
    "functions.Sum(1,2)"
   ]
  },
  {
   "cell_type": "code",
   "execution_count": 4,
   "id": "b8c7d80a-8580-417b-948e-23ca9af24336",
   "metadata": {},
   "outputs": [
    {
     "name": "stdout",
     "output_type": "stream",
     "text": [
      "3\n"
     ]
    }
   ],
   "source": [
    "from MyPacakage.functions import Sum\n",
    "Sum(1,2)"
   ]
  },
  {
   "cell_type": "code",
   "execution_count": 5,
   "id": "62e19138-c493-4bf6-b4ba-0d2675806671",
   "metadata": {},
   "outputs": [
    {
     "name": "stdout",
     "output_type": "stream",
     "text": [
      "31\n"
     ]
    }
   ],
   "source": [
    "from MyPacakage.functions import Sub\n",
    "Sub(33,2)"
   ]
  },
  {
   "cell_type": "code",
   "execution_count": 6,
   "id": "cefab03c-0611-4727-9c1a-15e2a0f47013",
   "metadata": {},
   "outputs": [
    {
     "ename": "ImportError",
     "evalue": "cannot import name 'Sum' from 'MyPacakage' (C:\\Users\\HP\\Documents\\GitHub\\Python-SMIT\\Day11\\MyPacakage\\__init__.py)",
     "output_type": "error",
     "traceback": [
      "\u001b[1;31m---------------------------------------------------------------------------\u001b[0m",
      "\u001b[1;31mImportError\u001b[0m                               Traceback (most recent call last)",
      "\u001b[1;32m~\\AppData\\Local\\Temp\\ipykernel_10936\\3892022741.py\u001b[0m in \u001b[0;36m<module>\u001b[1;34m\u001b[0m\n\u001b[1;32m----> 1\u001b[1;33m \u001b[1;32mfrom\u001b[0m \u001b[0mMyPacakage\u001b[0m \u001b[1;32mimport\u001b[0m \u001b[0mSum\u001b[0m\u001b[1;33m,\u001b[0m \u001b[0mPower\u001b[0m\u001b[1;33m\u001b[0m\u001b[1;33m\u001b[0m\u001b[0m\n\u001b[0m",
      "\u001b[1;31mImportError\u001b[0m: cannot import name 'Sum' from 'MyPacakage' (C:\\Users\\HP\\Documents\\GitHub\\Python-SMIT\\Day11\\MyPacakage\\__init__.py)"
     ]
    }
   ],
   "source": [
    "from MyPacakage import Sum, Power\n"
   ]
  },
  {
   "cell_type": "code",
   "execution_count": 7,
   "id": "66033491-083c-445a-aab3-a41e0d742cbc",
   "metadata": {},
   "outputs": [
    {
     "name": "stdout",
     "output_type": "stream",
     "text": [
      "hey Faisal\n"
     ]
    }
   ],
   "source": [
    "from MyPacakage.teacher import HeyTeacher\n",
    "HeyTeacher(\"Faisal\")"
   ]
  },
  {
   "cell_type": "code",
   "execution_count": 8,
   "id": "8da78fee-e2d9-46a0-a79f-a4f7d1d85117",
   "metadata": {},
   "outputs": [
    {
     "name": "stdout",
     "output_type": "stream",
     "text": [
      "hey Faisal\n"
     ]
    }
   ],
   "source": [
    "from MyPacakage.student import Heystudent\n",
    "Heystudent(\"Faisal\")"
   ]
  },
  {
   "cell_type": "code",
   "execution_count": null,
   "id": "dd02bb1c-c053-4e63-bbea-845f0b4dcc66",
   "metadata": {},
   "outputs": [],
   "source": []
  }
 ],
 "metadata": {
  "kernelspec": {
   "display_name": "Python 3 (ipykernel)",
   "language": "python",
   "name": "python3"
  },
  "language_info": {
   "codemirror_mode": {
    "name": "ipython",
    "version": 3
   },
   "file_extension": ".py",
   "mimetype": "text/x-python",
   "name": "python",
   "nbconvert_exporter": "python",
   "pygments_lexer": "ipython3",
   "version": "3.9.13"
  }
 },
 "nbformat": 4,
 "nbformat_minor": 5
}
