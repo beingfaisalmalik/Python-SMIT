{
 "cells": [
  {
   "cell_type": "markdown",
   "id": "de2b5ef7-c5af-42b0-b84b-4b300ca4fde3",
   "metadata": {},
   "source": [
    "# Functions \n",
    "* ``Pre Defined/ User Defined Functions``\n",
    "```\n",
    "Sets Of Statements And Expressions Are Called Functions\n",
    "decreased the repeatation of code\n",
    "```\n",
    "    * Return \n",
    "    * Non Return\n",
    "    * Default Functions\n",
    "    * Required Arguments Functions\n",
    "    * Required/Optional Arguments Function\n",
    "    * lambda Functions\n",
    "    * Recursive Functions\n",
    "    * Generator Functions\n",
    "* Functions Components\n",
    "    * Function Declaration/ Function Signature\n",
    "        * `def function(arg1,arg2,arg2....)`\n",
    "    * Functions Body \n",
    "    * Function Call\n",
    "        * `FunctionName(arg1_Value)`\n",
    "        * `function_name()`"
   ]
  },
  {
   "cell_type": "code",
   "execution_count": 5,
   "id": "72d3014f-86b9-4404-ade2-130545fcf024",
   "metadata": {},
   "outputs": [
    {
     "name": "stdout",
     "output_type": "stream",
     "text": [
      "We Love Our Country\n",
      "My Country Name Is Pakistan\n"
     ]
    }
   ],
   "source": [
    "print(\"We Love Our Country\") # Statment1\n",
    "print(\"My Country Name Is Pakistan\")# Statement2\n",
    "\n",
    "# For Stopping Repeatations of Statements"
   ]
  },
  {
   "cell_type": "markdown",
   "id": "70391ddc-7742-40dd-8b7e-4a5fdd9bbc87",
   "metadata": {},
   "source": [
    "# Default Function\n",
    "* Not Required any argument when we call it"
   ]
  },
  {
   "cell_type": "code",
   "execution_count": 14,
   "id": "69cab6e6-d22e-4514-94f4-6706b9f5ffc2",
   "metadata": {},
   "outputs": [
    {
     "name": "stdout",
     "output_type": "stream",
     "text": [
      "Faisal\n"
     ]
    }
   ],
   "source": [
    "def name_Message():  #dec/sig\n",
    "    #function body start\n",
    "    print(\"Faisal\")\n",
    "    #function body end\n",
    "name_Message()\n",
    "    "
   ]
  },
  {
   "cell_type": "markdown",
   "id": "45d12962-7fb4-4813-8c43-636cf813ab98",
   "metadata": {},
   "source": [
    "# Parameterized Functions"
   ]
  },
  {
   "cell_type": "code",
   "execution_count": 15,
   "id": "13e4b06b-97d5-446d-bf1c-5c4371742c3f",
   "metadata": {},
   "outputs": [
    {
     "name": "stdout",
     "output_type": "stream",
     "text": [
      "My Name Is:Faisal\n"
     ]
    }
   ],
   "source": [
    "def name_Message(name):\n",
    "    print(f\"My Name Is:{name}\")\n",
    "name_Message(\"Faisal\")\n"
   ]
  },
  {
   "cell_type": "markdown",
   "id": "7624f774-6660-42f0-935b-2ca391ea2670",
   "metadata": {},
   "source": [
    "# Return And Non Return Function"
   ]
  },
  {
   "cell_type": "code",
   "execution_count": 22,
   "id": "290bd017-f192-4a15-8618-81b3c2d4f4ab",
   "metadata": {},
   "outputs": [
    {
     "name": "stdout",
     "output_type": "stream",
     "text": [
      "The Sum Is: 6\n",
      "None\n"
     ]
    }
   ],
   "source": [
    "# Return Function\n",
    "\n",
    "def Sum(a,b,c):\n",
    "    return a+b+c\n",
    "Sum(1,2,3)\n",
    "\n",
    "# None Reutrn Functions\n",
    "def Nsum(a,b,c):\n",
    "    print(f\"The Sum Is: {a+b+c}\")\n",
    "print(Nsum(1,2,3))\n"
   ]
  },
  {
   "cell_type": "markdown",
   "id": "79a1b5b0-f559-43aa-827a-d24261f47c9f",
   "metadata": {},
   "source": [
    "# Card Function"
   ]
  },
  {
   "cell_type": "code",
   "execution_count": 28,
   "id": "eadecd2c-b56a-4f71-ad40-4fb7230bc37e",
   "metadata": {},
   "outputs": [
    {
     "data": {
      "text/plain": [
       "' Saylani Student Card\\n    Student ID:\\t\\t111752\\n    Student Name:\\tMuhammad Faisal\\n    Class Timings:\\t630\\n    Batch:\\t\\t111752\\n    '"
      ]
     },
     "execution_count": 28,
     "metadata": {},
     "output_type": "execute_result"
    }
   ],
   "source": [
    "def Student_Card(roll_no, name, timing, Batch):\n",
    "    card = f\"\"\" Saylani Student Card\n",
    "    Student ID:\\t\\t{roll_no}\n",
    "    Student Name:\\t{name}\n",
    "    Class Timings:\\t{timing}\n",
    "    Batch:\\t\\t{roll_no}\n",
    "    \"\"\"\n",
    "    return card\n",
    "Student_Card(111752,\"Muhammad Faisal\", \"630\",\"4\")"
   ]
  },
  {
   "cell_type": "code",
   "execution_count": 32,
   "id": "d7c3fd90-298d-48ea-b649-aebdfc496ebc",
   "metadata": {},
   "outputs": [],
   "source": [
    "data = [[1,\"Faisal\",'3 to 6','4'],[2,\"Ali\",'3 to 6','4'],[3,\"Qasim\",'3 to 6','4']]"
   ]
  },
  {
   "cell_type": "code",
   "execution_count": 37,
   "id": "71a75b5e-358b-4212-b57c-52fdc1462b05",
   "metadata": {},
   "outputs": [
    {
     "name": "stdout",
     "output_type": "stream",
     "text": [
      " Saylani Student Card\n",
      "    Student ID:\t\t1\n",
      "    Student Name:\tFaisal\n",
      "    Class Timings:\t3 to 6\n",
      "    Batch:\t\t1\n",
      "    \n",
      " Saylani Student Card\n",
      "    Student ID:\t\t2\n",
      "    Student Name:\tAli\n",
      "    Class Timings:\t3 to 6\n",
      "    Batch:\t\t2\n",
      "    \n",
      " Saylani Student Card\n",
      "    Student ID:\t\t3\n",
      "    Student Name:\tQasim\n",
      "    Class Timings:\t3 to 6\n",
      "    Batch:\t\t3\n",
      "    \n"
     ]
    }
   ],
   "source": [
    "for i in data:\n",
    "    print(Student_Card(*i))"
   ]
  },
  {
   "cell_type": "markdown",
   "id": "352d65b7-d0b2-4929-b29c-cdd507071c8f",
   "metadata": {},
   "source": [
    "# Optional Parameters/ Default Parameters Functions\n"
   ]
  },
  {
   "cell_type": "code",
   "execution_count": 40,
   "id": "b06a1cfa-d97c-4a88-9fe0-64a194c8e1eb",
   "metadata": {},
   "outputs": [
    {
     "name": "stdout",
     "output_type": "stream",
     "text": [
      "1\n",
      "4\n"
     ]
    }
   ],
   "source": [
    "def SumTwo(n1 = 0, n2 = 0):\n",
    "    return n1 + n2;\n",
    "print(SumTwo(1))\n",
    "print(SumTwo(2,2))\n"
   ]
  },
  {
   "cell_type": "markdown",
   "id": "a5463182-2b63-4421-9a7a-62403ebdd458",
   "metadata": {},
   "source": [
    "# KeyWord Pass Positional / arguments During Function Call"
   ]
  },
  {
   "cell_type": "code",
   "execution_count": 41,
   "id": "c47d6a1a-cdf2-48fa-ac84-f112feec490c",
   "metadata": {},
   "outputs": [
    {
     "name": "stdout",
     "output_type": "stream",
     "text": [
      "3\n",
      "4\n"
     ]
    }
   ],
   "source": [
    "def SumTwo(n1 = 0, n2 = 0):\n",
    "    return n1 + n2;\n",
    "print(SumTwo(n1=1,n2=2)) # Passing Value With Keywords Arguments\n",
    "print(SumTwo(2,2))\n"
   ]
  },
  {
   "cell_type": "markdown",
   "id": "dcadd3d9-e99d-4cad-a15b-dce8012b458f",
   "metadata": {},
   "source": [
    "# Unlimited positonal Arguments"
   ]
  },
  {
   "cell_type": "code",
   "execution_count": 51,
   "id": "01ffa467-9fad-4813-9b03-fabeff965477",
   "metadata": {},
   "outputs": [
    {
     "name": "stdout",
     "output_type": "stream",
     "text": [
      "9\n"
     ]
    }
   ],
   "source": [
    "def SumTwo(n1,*value):\n",
    "    result = n1 # it Will Make A Tuple\n",
    "    for n in value:\n",
    "        result += n\n",
    "    return result\n",
    "print(SumTwo(2,2,2,3))"
   ]
  },
  {
   "cell_type": "markdown",
   "id": "fdebfe8c-0e4a-4eec-990c-5fdf0c1d8135",
   "metadata": {},
   "source": [
    "# Unlimited KeyWords Arguments\n"
   ]
  },
  {
   "cell_type": "code",
   "execution_count": null,
   "id": "b3cdd311-5f4a-4f6c-80c5-d397e9a78f25",
   "metadata": {},
   "outputs": [],
   "source": [
    "def SumTwo(n1,**value):\n",
    "    result = n1 # it Will Make A Tuple\n",
    "    for n in value:\n",
    "        result += n\n",
    "    return result\n",
    "print(SumTwo(2,2,2,3))"
   ]
  },
  {
   "cell_type": "code",
   "execution_count": 69,
   "id": "e711eed5-4e58-4f7c-a067-b8bac8278e70",
   "metadata": {},
   "outputs": [
    {
     "name": "stdout",
     "output_type": "stream",
     "text": [
      "Required Positional Argument num1  220 <class 'int'>\n",
      " Positional default parameter num2  343 <class 'int'>\n",
      " Positional unlimited parameter tuple1  (4, 3, 4) <class 'tuple'>\n",
      " keyword unlimited parameter dict1  {'name': 'Faisal'} <class 'dict'>\n"
     ]
    }
   ],
   "source": [
    "#Create Function With Required Argument, Optional Unlimited Positional, Unlimited key/Word Argument\n",
    "def c(num1, num2=2, *tuple1, **dict1):\n",
    "    print(f\"Required Positional Argument num1 \",num1, type(num1))\n",
    "    print(f\" Positional default parameter num2 \",num2, type(num2))\n",
    "    print(f\" Positional unlimited parameter tuple1 \",tuple1, type(tuple1))\n",
    "    print(f\" keyword unlimited parameter dict1 \",dict1, type(dict1))\n",
    "          \n",
    "c(220,343,4,3,4,name=\"Faisal\")"
   ]
  },
  {
   "cell_type": "markdown",
   "id": "d549674e-2420-4fe3-8663-35fd56a94e58",
   "metadata": {},
   "source": [
    "# Lambda Function\n",
    "* Ananymous Function\n",
    "* Without Any Name Function\n",
    "* Single Line Function\n",
    "* Used As Expression"
   ]
  },
  {
   "cell_type": "code",
   "execution_count": 71,
   "id": "0d72e7d5-44ee-42a3-9547-3295897726c9",
   "metadata": {},
   "outputs": [],
   "source": [
    "def add_two_num(num1, num2):\n",
    "    return num1 + num2"
   ]
  },
  {
   "cell_type": "code",
   "execution_count": 74,
   "id": "1c5c351f-1b91-4535-8da8-f23b7bd817b1",
   "metadata": {},
   "outputs": [
    {
     "name": "stdout",
     "output_type": "stream",
     "text": [
      "3\n"
     ]
    }
   ],
   "source": [
    "a = lambda num1,num2: num1 + num2\n",
    "print(a(1,2))"
   ]
  },
  {
   "cell_type": "code",
   "execution_count": 92,
   "id": "294935ce-5778-47b0-a241-59e1154975eb",
   "metadata": {},
   "outputs": [
    {
     "data": {
      "text/plain": [
       "[[11, 22, 33, 44, 'X'], [1, 2, 3, 4, 'Y'], [111, 222, 333, 444, 'Z']]"
      ]
     },
     "execution_count": 92,
     "metadata": {},
     "output_type": "execute_result"
    }
   ],
   "source": [
    " l = [[111,222,333,444,\"Z\"],[1,2,3,4,\"Y\"],[11,22,33,44,\"X\"]]\n",
    "sorted(l, key = lambda x:x[4])"
   ]
  },
  {
   "cell_type": "code",
   "execution_count": null,
   "id": "15c4af98-a0ea-4caa-8ff9-858d6096e43f",
   "metadata": {},
   "outputs": [],
   "source": []
  }
 ],
 "metadata": {
  "kernelspec": {
   "display_name": "Python 3 (ipykernel)",
   "language": "python",
   "name": "python3"
  },
  "language_info": {
   "codemirror_mode": {
    "name": "ipython",
    "version": 3
   },
   "file_extension": ".py",
   "mimetype": "text/x-python",
   "name": "python",
   "nbconvert_exporter": "python",
   "pygments_lexer": "ipython3",
   "version": "3.9.13"
  }
 },
 "nbformat": 4,
 "nbformat_minor": 5
}
