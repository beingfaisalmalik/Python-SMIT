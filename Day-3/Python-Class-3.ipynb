{
 "cells": [
  {
   "cell_type": "markdown",
   "id": "b7f2eeb8",
   "metadata": {},
   "source": [
    "# Python Day 3\n"
   ]
  },
  {
   "cell_type": "markdown",
   "id": "ece749f0",
   "metadata": {},
   "source": [
    "### Text formatting / formation/concatination\n"
   ]
  },
  {
   "cell_type": "code",
   "execution_count": null,
   "id": "4ff174a0",
   "metadata": {},
   "outputs": [],
   "source": [
    "# no space beacuse of the separator\n"
   ]
  },
  {
   "cell_type": "markdown",
   "id": "05f619a7",
   "metadata": {},
   "source": [
    "# Rules For Python Variables : \n",
    "\n",
    "* A variable name must start with a letter or the underscore character\n",
    "* A variable name cannot start with a number\n",
    "* A variable name can only contain alpha-numeric characters and underscores (A-z, 0-9, and _ )\n",
    "* Variable names are case-sensitive (age, Age and AGE are three different variables)\n",
    "* A variable name cannot be any of the Python keywords."
   ]
  },
  {
   "cell_type": "code",
   "execution_count": 44,
   "id": "920cffc9",
   "metadata": {},
   "outputs": [
    {
     "name": "stdout",
     "output_type": "stream",
     "text": [
      "Muhammad Faisal\n"
     ]
    }
   ],
   "source": [
    "student_name = 'Muhammad Faisal'\n",
    "print(student_name)"
   ]
  },
  {
   "cell_type": "code",
   "execution_count": 46,
   "id": "3c8bf465",
   "metadata": {},
   "outputs": [
    {
     "name": "stdout",
     "output_type": "stream",
     "text": [
      "6\n"
     ]
    }
   ],
   "source": [
    "# Return and non Return\n",
    "# isky answer ko varible mai dal sken it is returnin some variable\n",
    "a = len(\"Faisal\")\n",
    "print(a)"
   ]
  },
  {
   "cell_type": "code",
   "execution_count": 47,
   "id": "1af136af",
   "metadata": {},
   "outputs": [
    {
     "name": "stdout",
     "output_type": "stream",
     "text": [
      "Faisal\n",
      "None\n",
      "None\n"
     ]
    }
   ],
   "source": [
    "# Non Return fucntion\n",
    "b = print('Faisal')\n",
    "print(b)\n",
    "print(b)"
   ]
  },
  {
   "cell_type": "code",
   "execution_count": null,
   "id": "6cae6fad",
   "metadata": {},
   "outputs": [],
   "source": [
    "\"\"\"\n",
    "Saylani Mass IT\n",
    "Muhammad Faisal\n",
    "\n",
    "\"\"\"\n"
   ]
  },
  {
   "cell_type": "markdown",
   "id": "3841c971",
   "metadata": {},
   "source": [
    "# Concatination\n",
    "## Using The F Method"
   ]
  },
  {
   "cell_type": "code",
   "execution_count": 59,
   "id": "93f6ff18",
   "metadata": {},
   "outputs": [
    {
     "name": "stdout",
     "output_type": "stream",
     "text": [
      "Name: Muhammad Faisal Malik  \n",
      "Institute Name : Saylani Mass IT Training \n",
      "Age: 23\n"
     ]
    }
   ],
   "source": [
    "# Using The F Method\n",
    "first_name = \"Muhammad Faisal\"\n",
    "last_name = \"Malik \"\n",
    "institute_name = \"Saylani Mass IT Training\"\n",
    "age = 23\n",
    "card = f\"Name: {first_name} {last_name} \\nInstitute Name : {institute_name} \\nAge: {age}\"\n",
    "print(card)"
   ]
  },
  {
   "cell_type": "markdown",
   "id": "6ffe2ac7",
   "metadata": {},
   "source": [
    "## Traditional Plus (+) Method"
   ]
  },
  {
   "cell_type": "code",
   "execution_count": 57,
   "id": "0486955e",
   "metadata": {},
   "outputs": [
    {
     "name": "stdout",
     "output_type": "stream",
     "text": [
      "Name: Muhammad Faisal\n",
      "Institute Name :Saylani Mass IT Training\n"
     ]
    }
   ],
   "source": [
    "#Traditional Method with string only\n",
    "card = \"Name: \"+ first_name +\"\\nInstitute Name :\"+institute_name\n",
    "print(card)"
   ]
  },
  {
   "cell_type": "code",
   "execution_count": 60,
   "id": "2db5157a",
   "metadata": {},
   "outputs": [
    {
     "ename": "TypeError",
     "evalue": "can only concatenate str (not \"int\") to str",
     "output_type": "error",
     "traceback": [
      "\u001b[1;31m---------------------------------------------------------------------------\u001b[0m",
      "\u001b[1;31mTypeError\u001b[0m                                 Traceback (most recent call last)",
      "\u001b[1;32m~\\AppData\\Local\\Temp\\ipykernel_2620\\1664187836.py\u001b[0m in \u001b[0;36m<module>\u001b[1;34m\u001b[0m\n\u001b[0;32m      1\u001b[0m \u001b[1;31m# Traditional Method with The Error Of Int\u001b[0m\u001b[1;33m\u001b[0m\u001b[1;33m\u001b[0m\u001b[0m\n\u001b[0;32m      2\u001b[0m \u001b[1;31m#Traditional Method with string only\u001b[0m\u001b[1;33m\u001b[0m\u001b[1;33m\u001b[0m\u001b[0m\n\u001b[1;32m----> 3\u001b[1;33m \u001b[0mcard\u001b[0m \u001b[1;33m=\u001b[0m \u001b[1;34m\"Name: \"\u001b[0m\u001b[1;33m+\u001b[0m \u001b[0mfirst_name\u001b[0m \u001b[1;33m+\u001b[0m\u001b[1;34m\"\\nInstitute Name :\"\u001b[0m\u001b[1;33m+\u001b[0m\u001b[0minstitute_name\u001b[0m\u001b[1;33m+\u001b[0m \u001b[1;34m\"\\nAge: \"\u001b[0m\u001b[1;33m+\u001b[0m\u001b[0mage\u001b[0m\u001b[1;33m\u001b[0m\u001b[1;33m\u001b[0m\u001b[0m\n\u001b[0m\u001b[0;32m      4\u001b[0m \u001b[0mprint\u001b[0m\u001b[1;33m(\u001b[0m\u001b[0mcard\u001b[0m\u001b[1;33m)\u001b[0m\u001b[1;33m\u001b[0m\u001b[1;33m\u001b[0m\u001b[0m\n",
      "\u001b[1;31mTypeError\u001b[0m: can only concatenate str (not \"int\") to str"
     ]
    }
   ],
   "source": [
    "# Traditional Method with The Error Of Int\n",
    "#Traditional Method with string only\n",
    "card = \"Name: \"+ first_name +\"\\nInstitute Name :\"+institute_name+ \"\\nAge: \"+age\n",
    "print(card)"
   ]
  },
  {
   "cell_type": "code",
   "execution_count": 61,
   "id": "667ecc78",
   "metadata": {},
   "outputs": [
    {
     "name": "stdout",
     "output_type": "stream",
     "text": [
      "Name: Muhammad Faisal\n",
      "Institute Name :Saylani Mass IT Training\n",
      "Age: 23\n"
     ]
    }
   ],
   "source": [
    "# Traditional Method with The TypeCasting Of Int\n",
    "#Traditional Method with string only\n",
    "card = \"Name: \"+ first_name +\"\\nInstitute Name :\"+institute_name+ \"\\nAge: \"+str(age)\n",
    "print(card)"
   ]
  },
  {
   "cell_type": "markdown",
   "id": "30bdf2dd",
   "metadata": {},
   "source": [
    "## The Format Method"
   ]
  },
  {
   "cell_type": "code",
   "execution_count": 65,
   "id": "b3422cb6",
   "metadata": {},
   "outputs": [
    {
     "name": "stdout",
     "output_type": "stream",
     "text": [
      "\n",
      "Institute Name :Saylani Mass IT Training\n",
      "Name :  Muhammad Faisal Malik \n",
      "Age : 23\n",
      "\n",
      "\n"
     ]
    }
   ],
   "source": [
    "# The Format Method\n",
    "Card2 = \"\"\"\n",
    "Institute Name :{}\n",
    "Name :  {} {}\n",
    "Age : {}\n",
    "\n",
    "\"\"\".format(institute_name,first_name,last_name,age)\n",
    "print(Card2)"
   ]
  },
  {
   "cell_type": "code",
   "execution_count": 67,
   "id": "4602fcb9",
   "metadata": {},
   "outputs": [
    {
     "name": "stdout",
     "output_type": "stream",
     "text": [
      "\n",
      "Institute Name :23\n",
      "Name :  Malik  Muhammad Faisal\n",
      "Age : Saylani Mass IT Training\n",
      "\n",
      "\n"
     ]
    }
   ],
   "source": [
    "# The Format Method Without Sequence\n",
    "# The Format Method\n",
    "Card2 = \"\"\"\n",
    "Institute Name :{3}\n",
    "Name :  {2} {1}\n",
    "Age : {0}\n",
    "\n",
    "\"\"\".format(institute_name,first_name,last_name,age)\n",
    "print(Card2)"
   ]
  },
  {
   "cell_type": "markdown",
   "id": "87ea7da0",
   "metadata": {},
   "source": [
    "# With F"
   ]
  },
  {
   "cell_type": "code",
   "execution_count": 68,
   "id": "fd0ab92b",
   "metadata": {},
   "outputs": [
    {
     "name": "stdout",
     "output_type": "stream",
     "text": [
      "\n",
      "Institute Name :Saylani Mass IT Training\n",
      "Name :  Muhammad Faisal Malik \n",
      "Age : 23\n",
      "\n",
      "\n"
     ]
    }
   ],
   "source": [
    "# The F Method By Sir\n",
    "Card2 = f\"\"\"\n",
    "Institute Name :{institute_name}\n",
    "Name :  {first_name} {last_name}\n",
    "Age : {age}\n",
    "\n",
    "\"\"\"\n",
    "print(Card2)"
   ]
  },
  {
   "cell_type": "markdown",
   "id": "27758685",
   "metadata": {},
   "source": [
    "# The % Method"
   ]
  },
  {
   "cell_type": "code",
   "execution_count": 70,
   "id": "e4583ffc",
   "metadata": {},
   "outputs": [
    {
     "name": "stdout",
     "output_type": "stream",
     "text": [
      "\n",
      "Institute Name :Saylani Mass IT Training\n",
      "Name :  Muhammad Faisal Malik \n",
      "Age : 23\n",
      "\n",
      "\n"
     ]
    }
   ],
   "source": [
    "Card2 = \"\"\"\n",
    "Institute Name :%s\n",
    "Name :  %s %s\n",
    "Age : %d\n",
    "\n",
    "\"\"\"%(institute_name,first_name,last_name,age)\n",
    "print(Card2)"
   ]
  },
  {
   "cell_type": "code",
   "execution_count": 77,
   "id": "7cc9e4e8",
   "metadata": {},
   "outputs": [
    {
     "name": "stdout",
     "output_type": "stream",
     "text": [
      "0 capitalize\n",
      "1 casefold\n",
      "2 center\n",
      "3 count\n",
      "4 encode\n",
      "5 endswith\n",
      "6 expandtabs\n",
      "7 find\n",
      "8 format\n",
      "9 index\n",
      "10 isalnum\n",
      "11 isalpha\n",
      "12 isascii\n",
      "13 isdecimal\n",
      "14 isdigit\n",
      "15 isidentifier\n",
      "16 islower\n",
      "17 isnumeric\n",
      "18 isprintable\n",
      "19 isspace\n",
      "20 istitle\n",
      "21 isupper\n",
      "22 join\n",
      "23 ljust\n",
      "24 lower\n",
      "25 lstrip\n",
      "26 maketrans\n",
      "27 partition\n",
      "28 removeprefix\n",
      "29 removesuffix\n",
      "30 replace\n",
      "31 rfind\n",
      "32 rindex\n",
      "33 rjust\n",
      "34 rpartition\n",
      "35 rsplit\n",
      "36 rstrip\n",
      "37 split\n",
      "38 splitlines\n",
      "39 startswith\n",
      "40 strip\n",
      "41 swapcase\n",
      "42 title\n",
      "43 translate\n",
      "44 upper\n",
      "45 zfill\n"
     ]
    }
   ],
   "source": [
    "# for seeing method attribute\n",
    "#That changes it is inline \n",
    "# That changes The Memory Is \n",
    "j=0\n",
    "method = dir(Card2)\n",
    "for i in method:\n",
    "    if \"_\" not in i:\n",
    "        print(j,i)\n",
    "        j = j+1"
   ]
  },
  {
   "cell_type": "code",
   "execution_count": 90,
   "id": "6bcf1c6e",
   "metadata": {},
   "outputs": [
    {
     "name": "stdout",
     "output_type": "stream",
     "text": [
      "False\n",
      "2\n",
      "\n",
      "INSTITUTE NAME :SAYLANI MASS IT TRAINING\n",
      "NAME :  MUHAMMAD FAISAL MALIK \n",
      "AGE : 23\n",
      "\n",
      "\n",
      "0\n",
      "b'Muhammad Faisal'\n"
     ]
    }
   ],
   "source": [
    "print(Card2.isdigit())\n",
    "#How Many Times Name Is Written\n",
    "print(Card2.count(\"Name\"))\n",
    "print(Card2.upper())\n",
    "#Chain Rule\n",
    "print(Card2.casefold().count('FAISAL'))\n",
    "print(first_name.encode(encoding=\"ascii\"))"
   ]
  },
  {
   "cell_type": "markdown",
   "id": "6ecfc92b",
   "metadata": {},
   "source": [
    "# Home Work\n",
    "#### Apply 45 String Metods On Card Method\n"
   ]
  },
  {
   "cell_type": "code",
   "execution_count": 115,
   "id": "30d2c2a1",
   "metadata": {},
   "outputs": [
    {
     "name": "stdout",
     "output_type": "stream",
     "text": [
      "{'Jane': 150, 'Jim': 155}\n",
      "{1: 1, 2: 4, 3: 9, 4: 16, 5: 25, 6: 36, 7: 49, 8: 64, 9: 81, 10: 100}\n"
     ]
    },
    {
     "ename": "TypeError",
     "evalue": "unsupported operand type(s) for ** or pow(): 'tuple' and 'tuple'",
     "output_type": "error",
     "traceback": [
      "\u001b[1;31m---------------------------------------------------------------------------\u001b[0m",
      "\u001b[1;31mTypeError\u001b[0m                                 Traceback (most recent call last)",
      "\u001b[1;32m~\\AppData\\Local\\Temp\\ipykernel_2620\\859330153.py\u001b[0m in \u001b[0;36m<module>\u001b[1;34m\u001b[0m\n\u001b[0;32m     13\u001b[0m \u001b[1;33m\u001b[0m\u001b[0m\n\u001b[0;32m     14\u001b[0m \u001b[1;31m#Dictonary Comprehension With Filtering\\\u001b[0m\u001b[1;33m\u001b[0m\u001b[1;33m\u001b[0m\u001b[0m\n\u001b[1;32m---> 15\u001b[1;33m \u001b[0mdict\u001b[0m \u001b[1;33m=\u001b[0m \u001b[1;33m{\u001b[0m\u001b[0mvalues\u001b[0m\u001b[1;33m**\u001b[0m\u001b[0mvalues\u001b[0m \u001b[1;32mfor\u001b[0m \u001b[1;33m(\u001b[0m\u001b[0mvalues\u001b[0m\u001b[1;33m)\u001b[0m \u001b[1;32min\u001b[0m \u001b[0mheights\u001b[0m\u001b[1;33m.\u001b[0m\u001b[0mitems\u001b[0m\u001b[1;33m(\u001b[0m\u001b[1;33m)\u001b[0m\u001b[1;33m}\u001b[0m\u001b[1;33m\u001b[0m\u001b[1;33m\u001b[0m\u001b[0m\n\u001b[0m\u001b[0;32m     16\u001b[0m \u001b[0mprint\u001b[0m\u001b[1;33m(\u001b[0m\u001b[0mdict\u001b[0m\u001b[1;33m)\u001b[0m\u001b[1;33m\u001b[0m\u001b[1;33m\u001b[0m\u001b[0m\n",
      "\u001b[1;32m~\\AppData\\Local\\Temp\\ipykernel_2620\\859330153.py\u001b[0m in \u001b[0;36m<setcomp>\u001b[1;34m(.0)\u001b[0m\n\u001b[0;32m     13\u001b[0m \u001b[1;33m\u001b[0m\u001b[0m\n\u001b[0;32m     14\u001b[0m \u001b[1;31m#Dictonary Comprehension With Filtering\\\u001b[0m\u001b[1;33m\u001b[0m\u001b[1;33m\u001b[0m\u001b[0m\n\u001b[1;32m---> 15\u001b[1;33m \u001b[0mdict\u001b[0m \u001b[1;33m=\u001b[0m \u001b[1;33m{\u001b[0m\u001b[0mvalues\u001b[0m\u001b[1;33m**\u001b[0m\u001b[0mvalues\u001b[0m \u001b[1;32mfor\u001b[0m \u001b[1;33m(\u001b[0m\u001b[0mvalues\u001b[0m\u001b[1;33m)\u001b[0m \u001b[1;32min\u001b[0m \u001b[0mheights\u001b[0m\u001b[1;33m.\u001b[0m\u001b[0mitems\u001b[0m\u001b[1;33m(\u001b[0m\u001b[1;33m)\u001b[0m\u001b[1;33m}\u001b[0m\u001b[1;33m\u001b[0m\u001b[1;33m\u001b[0m\u001b[0m\n\u001b[0m\u001b[0;32m     16\u001b[0m \u001b[0mprint\u001b[0m\u001b[1;33m(\u001b[0m\u001b[0mdict\u001b[0m\u001b[1;33m)\u001b[0m\u001b[1;33m\u001b[0m\u001b[1;33m\u001b[0m\u001b[0m\n",
      "\u001b[1;31mTypeError\u001b[0m: unsupported operand type(s) for ** or pow(): 'tuple' and 'tuple'"
     ]
    }
   ],
   "source": [
    "# Filtering Dictonary Based On Values\n",
    "\n",
    "heights = {'John': 175, 'Jane': 150, 'Jim': 155, 'Matt': 170}\n",
    "\n",
    "dict = {key:values for (key,values) in heights.items() if values < 170}\n",
    "\n",
    "print(dict)\n",
    "     \n",
    "#Dictonary Comprehension\n",
    "\n",
    "dict = {i:i**2 for i in range(1,11)}\n",
    "print(dict)\n",
    "\n",
    "#Dictonary Comprehension With Filtering\\\n",
    "dict = {i}\n",
    "print(dict)"
   ]
  }
 ],
 "metadata": {
  "kernelspec": {
   "display_name": "Python 3 (ipykernel)",
   "language": "python",
   "name": "python3"
  },
  "language_info": {
   "codemirror_mode": {
    "name": "ipython",
    "version": 3
   },
   "file_extension": ".py",
   "mimetype": "text/x-python",
   "name": "python",
   "nbconvert_exporter": "python",
   "pygments_lexer": "ipython3",
   "version": "3.9.13"
  }
 },
 "nbformat": 4,
 "nbformat_minor": 5
}
