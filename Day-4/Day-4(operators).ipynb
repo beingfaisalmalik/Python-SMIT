{
 "cells": [
  {
   "cell_type": "markdown",
   "id": "3ddb1d17-a5bc-4c87-a3b0-7a925679c6db",
   "metadata": {},
   "source": [
    "# Operators\n",
    "<img src=\"https://th.bing.com/th/id/OIP.uQL9o0Zk5kL1lhs4XANrjwAAAA?pid=ImgDet&rs=1\">\n",
    "\n",
    "# Python Operators\n",
    "<img src=\"https://techvidvan.com/tutorials/wp-content/uploads/sites/2/2019/12/python-operators.jpg\">\n",
    "\n",
    "## Logical Operators\n",
    "### **And, Or, Not**\n",
    "<img src=\"https://www.examtray.com/sites/default/files/2020-11/python-logical-operators-table_0.jpg\">\n",
    "\n",
    "\n",
    "## Arthimetic Operators\n",
    "### +, -, %, *, /, //, **Pow\n",
    "<img src=\"https://th.bing.com/th/id/R.52845e95f7aa70bedf9ff4eb22f5982c?rik=A%2b57g1bLvVDCBA&pid=ImgRaw&r=0\">\n",
    "\n",
    "## Assingment Operators\n",
    "### =, +=, -=, **=, //=, /=, *=\n",
    "<img src= \"https://th.bing.com/th/id/OIP.qVNVIJNbZhHfLBrDyrPGZQHaD8?pid=ImgDet&rs=1\">\n",
    "\n",
    "## Comparison Operators\n",
    "### **>, <, >=, <+, ==**\n",
    "<img src=\"https://th.bing.com/th/id/R.8d4c57c4eee71ac75aa7bfcd4dd66fe3?rik=qUIvQlX3Vm0oZA&pid=ImgRaw&r=0\">\n",
    "\n",
    "## Identity Operators\n",
    "### **is, is not**\n",
    "<img src=\"https://th.bing.com/th/id/R.e91fcf89af41dd3074f770e457696917?rik=plITPJ%2fUaa06UQ&pid=ImgRaw&r=0\">\n",
    "\n",
    "## Membership Operators\n",
    "### **in, not in**\n",
    "<img src=\"https://th.bing.com/th/id/R.0b82fc6579fa58ad5471962dd3f519c7?rik=%2bTYRxVCeX%2feelw&pid=ImgRaw&r=0\">\n"
   ]
  },
  {
   "cell_type": "markdown",
   "id": "22524948-67a1-44c8-b6a9-34a84864eb43",
   "metadata": {},
   "source": [
    "* Operators works with different data Types is Called Data Overloading\n",
    "* "
   ]
  },
  {
   "cell_type": "code",
   "execution_count": 1,
   "id": "068739c8-96a5-46c1-91d8-82d27246a77d",
   "metadata": {},
   "outputs": [
    {
     "name": "stdout",
     "output_type": "stream",
     "text": [
      "3\n",
      "12\n"
     ]
    }
   ],
   "source": [
    "#Addition Operation\n",
    "\n",
    "num1 = 1\n",
    "num2 = 2\n",
    "print(num1 + num2)\n",
    "\n",
    "#Concationation Operation\n",
    "\n",
    "num1 = \"1\"\n",
    "num2 = \"2\"\n",
    "print(num1+num2)"
   ]
  },
  {
   "cell_type": "code",
   "execution_count": 6,
   "id": "717faaa6-6356-4efa-b9d1-3299e5f3b5ba",
   "metadata": {},
   "outputs": [
    {
     "name": "stdout",
     "output_type": "stream",
     "text": [
      "num1: <class 'str'> + num2: <class 'int'>\n"
     ]
    },
    {
     "ename": "TypeError",
     "evalue": "can only concatenate str (not \"int\") to str",
     "output_type": "error",
     "traceback": [
      "\u001b[1;31m---------------------------------------------------------------------------\u001b[0m",
      "\u001b[1;31mTypeError\u001b[0m                                 Traceback (most recent call last)",
      "\u001b[1;32m~\\AppData\\Local\\Temp\\ipykernel_9840\\2964100925.py\u001b[0m in \u001b[0;36m<module>\u001b[1;34m\u001b[0m\n\u001b[0;32m      4\u001b[0m \u001b[0mnum2\u001b[0m \u001b[1;33m=\u001b[0m \u001b[1;36m2\u001b[0m\u001b[1;33m\u001b[0m\u001b[1;33m\u001b[0m\u001b[0m\n\u001b[0;32m      5\u001b[0m \u001b[0mprint\u001b[0m\u001b[1;33m(\u001b[0m\u001b[1;34mf\"num1: {type(num1)} + num2: {type(num2)}\"\u001b[0m\u001b[1;33m)\u001b[0m\u001b[1;33m\u001b[0m\u001b[1;33m\u001b[0m\u001b[0m\n\u001b[1;32m----> 6\u001b[1;33m \u001b[0mprint\u001b[0m\u001b[1;33m(\u001b[0m\u001b[0mnum1\u001b[0m \u001b[1;33m+\u001b[0m \u001b[0mnum2\u001b[0m\u001b[1;33m)\u001b[0m\u001b[1;33m\u001b[0m\u001b[1;33m\u001b[0m\u001b[0m\n\u001b[0m\u001b[0;32m      7\u001b[0m \u001b[1;33m\u001b[0m\u001b[0m\n",
      "\u001b[1;31mTypeError\u001b[0m: can only concatenate str (not \"int\") to str"
     ]
    }
   ],
   "source": [
    "# Concatiion With Diffrent Data Types\n",
    "\n",
    "num1 = \"1\"\n",
    "num2 = 2\n",
    "print(f\"num1: {type(num1)} + num2: {type(num2)}\")\n",
    "print(num1 + num2)\n",
    "\n"
   ]
  },
  {
   "cell_type": "code",
   "execution_count": 8,
   "id": "e64bdb0d-771e-4782-805f-72b7af056ecd",
   "metadata": {},
   "outputs": [
    {
     "name": "stdout",
     "output_type": "stream",
     "text": [
      "l1: <class 'list'> + l2: <class 'list'>\n",
      "['a', 'b', 'c'] [1, 2, 3]\n",
      "['a', 'b', 'c', 1, 2, 3]\n"
     ]
    }
   ],
   "source": [
    "## Merging Both Of The Lists\n",
    "l1 = ['a','b','c']\n",
    "l2 = [1,2,3]\n",
    "print(f\"l1: {type(l1)} + l2: {type(l2)}\")\n",
    "print(l1 , l2)\n",
    "print(l1 + l2)\n"
   ]
  },
  {
   "cell_type": "markdown",
   "id": "cf7c3eb2-5c39-4faa-80d7-6986bd5b4a76",
   "metadata": {
    "tags": []
   },
   "source": [
    "## Arthimetic Operators"
   ]
  },
  {
   "cell_type": "code",
   "execution_count": 12,
   "id": "bd2c14ba-11ca-4b33-9717-499a20e06965",
   "metadata": {},
   "outputs": [
    {
     "name": "stdout",
     "output_type": "stream",
     "text": [
      "Operator            Name                Example             \n",
      "+                   Addition            x + y               \n",
      "-                   Subtraction         x - y               \n",
      "*                   Multiplication      x * y               \n",
      "/                   Division            x / y               \n",
      "%                   Modulus             x % y               \n",
      "**                  Exponentiation      x ** y              \n",
      "//                  Floor division      x // y\n"
     ]
    }
   ],
   "source": [
    "x = \"\"\"Operator\tName\tExample\t\n",
    "+\tAddition\tx + y\t\n",
    "-\tSubtraction\tx - y\t\n",
    "*\tMultiplication\tx * y\t\n",
    "/\tDivision\tx / y\t\n",
    "%\tModulus\tx % y\t\n",
    "**\tExponentiation\tx ** y\t\n",
    "//\tFloor division\tx // y\"\"\".expandtabs(20)\n",
    "print(x)"
   ]
  },
  {
   "cell_type": "code",
   "execution_count": 14,
   "id": "0ff20a0f-4f43-43a3-a756-df09769d646c",
   "metadata": {},
   "outputs": [
    {
     "name": "stdout",
     "output_type": "stream",
     "text": [
      "30\n",
      "-10\n",
      "0.5\n",
      "200\n",
      "100000000000000000000\n",
      "0\n",
      "10\n"
     ]
    }
   ],
   "source": [
    "x = 10\n",
    "y = 20\n",
    "print(x+y)\n",
    "print(x-y)\n",
    "print(x/y)\n",
    "print(x*y)\n",
    "print(x**y)\n",
    "print(x//y)\n",
    "print(x%y)"
   ]
  },
  {
   "cell_type": "markdown",
   "id": "11b2715b-1358-429c-84e8-c50533e5daca",
   "metadata": {},
   "source": [
    "## Assingment Operators"
   ]
  },
  {
   "cell_type": "code",
   "execution_count": 15,
   "id": "0411ff9a-e07c-41cb-b0f9-f5e6453babfc",
   "metadata": {},
   "outputs": [
    {
     "name": "stdout",
     "output_type": "stream",
     "text": [
      "Operator            Example             Same As             \n",
      "=                   x = 5               x = 5               \n",
      "+=                  x += 3              x = x + 3           \n",
      "-=                  x -= 3              x = x - 3           \n",
      "*=                  x *= 3              x = x * 3           \n",
      "/=                  x /= 3              x = x / 3           \n",
      "%=                  x %= 3              x = x % 3           \n",
      "//=                 x //= 3             x = x // 3          \n",
      "**=                 x **= 3             x = x ** 3          \n",
      "&=                  x &= 3              x = x & 3           \n",
      "|=                  x |= 3              x = x | 3           \n",
      "^=                  x ^= 3              x = x ^ 3           \n",
      ">>=                 x >>= 3             x = x >> 3          \n",
      "<<=                 x <<= 3             x = x << 3          \n"
     ]
    }
   ],
   "source": [
    "x = \"\"\"Operator\tExample\tSame As\t\n",
    "=\tx = 5\tx = 5\t\n",
    "+=\tx += 3\tx = x + 3\t\n",
    "-=\tx -= 3\tx = x - 3\t\n",
    "*=\tx *= 3\tx = x * 3\t\n",
    "/=\tx /= 3\tx = x / 3\t\n",
    "%=\tx %= 3\tx = x % 3\t\n",
    "//=\tx //= 3\tx = x // 3\t\n",
    "**=\tx **= 3\tx = x ** 3\t\n",
    "&=\tx &= 3\tx = x & 3\t\n",
    "|=\tx |= 3\tx = x | 3\t\n",
    "^=\tx ^= 3\tx = x ^ 3\t\n",
    ">>=\tx >>= 3\tx = x >> 3\t\n",
    "<<=\tx <<= 3\tx = x << 3\t\"\"\".expandtabs(20)\n",
    "print(x)\n"
   ]
  },
  {
   "cell_type": "code",
   "execution_count": 25,
   "id": "8d1af7a8-00fc-478a-b0d9-6b39c9e556de",
   "metadata": {},
   "outputs": [
    {
     "name": "stdout",
     "output_type": "stream",
     "text": [
      "5\n",
      "10\n",
      "5\n",
      "25\n",
      "5.0\n",
      "1.0\n",
      "10000000000\n"
     ]
    }
   ],
   "source": [
    "a =5 \n",
    "print(a)\n",
    "\n",
    "# a = a + 5\n",
    "a  += 5\n",
    "print(a)\n",
    "\n",
    "# a = a - 5\n",
    "a  -= 5\n",
    "print(a)\n",
    "\n",
    "# a = a * 5\n",
    "a *= 5\n",
    "print(a)\n",
    "\n",
    "# a = a / 5\n",
    "\n",
    "a /= 5\n",
    "print(a)\n",
    "\n",
    "a //=5\n",
    "print(a)\n",
    "\n",
    "b = 10\n",
    "\n",
    "b **=10\n",
    "print(b)"
   ]
  },
  {
   "cell_type": "markdown",
   "id": "79d34d22-e94d-45c7-b496-16dacf4a4fd1",
   "metadata": {},
   "source": [
    "## Bitwise Operator"
   ]
  },
  {
   "cell_type": "code",
   "execution_count": 83,
   "id": "5b853dfc-fca2-433d-9b42-ef702de90b91",
   "metadata": {},
   "outputs": [
    {
     "name": "stdout",
     "output_type": "stream",
     "text": [
      "Operator                      Description                   Example                       \n",
      "&                             And                           x & y                         \n",
      "|                             OR                            x | y                         \n",
      "^                             XOR                           x ^ y                         \n",
      "~                             NOT                           ~x                            \n",
      "<<                            Shift left                    x << 2                        \n",
      ">>                            Shift rightf                  x >> 2\n"
     ]
    }
   ],
   "source": [
    "x = \"\"\"Operator\tDescription\tExample\t\n",
    "& \tAnd\tx & y\t\n",
    "|\tOR\tx | y\t\n",
    "^\tXOR\tx ^ y\t\n",
    "~\tNOT\t~x\t\n",
    "<<\tShift left \tx << 2\t\n",
    ">>\tShift rightf\tx >> 2\"\"\".expandtabs(30)\n",
    "print(x)"
   ]
  },
  {
   "cell_type": "code",
   "execution_count": 38,
   "id": "63b360b9-3f78-4e8a-a86b-6554cc323bbc",
   "metadata": {},
   "outputs": [
    {
     "name": "stdout",
     "output_type": "stream",
     "text": [
      "1\n",
      "3\n",
      "1\n",
      "6\n",
      "2\n",
      "-2\n"
     ]
    }
   ],
   "source": [
    "\n",
    "\n",
    "#First Convert It Into Binary Then And It With The Binary Of The Next Operand The Resultant Binary Will Be Converted Into The Integar\n",
    "x = 3\n",
    "y = 1\n",
    "#Binary AND\n",
    "print(x & y)\n",
    "#Binary OR\n",
    "print( x | y)\n",
    "#Binary Left Shift\n",
    "print(x >> y)\n",
    "#Binary Right Shift\n",
    "print( x << y)\n",
    "#Binary XOR\n",
    "print( x ^ y)\n",
    "#Binary NOT\n",
    "print(~y)"
   ]
  },
  {
   "cell_type": "markdown",
   "id": "f31218f2-d216-4a4e-8c18-bd6c422b52ce",
   "metadata": {},
   "source": [
    "## Comparison Operation "
   ]
  },
  {
   "cell_type": "code",
   "execution_count": 36,
   "id": "c67cabc0-f1bc-449c-ad3c-020c1dd64bb4",
   "metadata": {},
   "outputs": [
    {
     "name": "stdout",
     "output_type": "stream",
     "text": [
      "Operator                      Name                          Example                       \n",
      "==                            Equal                         x == y                        \n",
      "!=                            Not equal                     x != y                        \n",
      ">                             Greater than                  x > y                         \n",
      "<                             Less than                     x < y                         \n",
      ">=                            Greater than or equal to      x >= y                        \n",
      "<=                            Less than or equal to         x <= y\n"
     ]
    }
   ],
   "source": [
    "x = \"\"\"Operator\tName\tExample\t\n",
    "==\tEqual\tx == y\t\n",
    "!=\tNot equal\tx != y\t\n",
    ">\tGreater than\tx > y\t\n",
    "<\tLess than\tx < y\t\n",
    ">=\tGreater than or equal to\tx >= y\t\n",
    "<=\tLess than or equal to\tx <= y\"\"\".expandtabs(30)\n",
    "print(x)"
   ]
  },
  {
   "cell_type": "code",
   "execution_count": 53,
   "id": "861db3e1-493e-42d7-b038-2ca99947619d",
   "metadata": {},
   "outputs": [
    {
     "name": "stdout",
     "output_type": "stream",
     "text": [
      "False\n",
      "True\n",
      "False\n",
      "True\n",
      "False\n",
      "True\n",
      "True\n"
     ]
    }
   ],
   "source": [
    "x = 10\n",
    "y = 20\n",
    "\n",
    "print(x == y)\n",
    "print(x != y)\n",
    "print( x > y)\n",
    "print( x < y)\n",
    "print(x >= y)\n",
    "print(x <= y)\n",
    "\n",
    "a = 'Faisal'\n",
    "b = \"faisal\"\n",
    "print(a < b)"
   ]
  },
  {
   "cell_type": "markdown",
   "id": "1f35664b-a0ba-4d52-a091-4814fb3185ed",
   "metadata": {},
   "source": [
    "## Logical Operators"
   ]
  },
  {
   "cell_type": "code",
   "execution_count": 92,
   "id": "7c838243-07b2-444e-824d-b7ff4923689e",
   "metadata": {},
   "outputs": [
    {
     "name": "stdout",
     "output_type": "stream",
     "text": [
      "\n",
      "Operator        Description                                               Example\n",
      "and             Returns True if both statements are true                  x < 5 and  x < 10\n",
      "or              Returns True if one of the statements is true             x < 5 or x < 4\n",
      "not             Reverse the result                                        not(x < 5 and x < 1\n"
     ]
    }
   ],
   "source": [
    "x = \"\"\"\n",
    "Operator        Description                                               Example\n",
    "and             Returns True if both statements are true                  x < 5 and  x < 10\n",
    "or              Returns True if one of the statements is true             x < 5 or x < 4\n",
    "not             Reverse the result                                        not(x < 5 and x < 1\"\"\"\n",
    "print(x)"
   ]
  },
  {
   "cell_type": "code",
   "execution_count": 60,
   "id": "7ef6b6d5-a76b-4f7b-b519-45cde7d6979d",
   "metadata": {},
   "outputs": [
    {
     "name": "stdout",
     "output_type": "stream",
     "text": [
      "AND\n",
      "False\n",
      "True\n",
      "True\n",
      "OR\n",
      "False\n",
      "True\n",
      "True\n",
      "NOT\n",
      "True\n",
      "False\n",
      "False\n"
     ]
    }
   ],
   "source": [
    "x = 1\n",
    "b = 2\n",
    "\n",
    "print(\"AND\")\n",
    "## AND Logical Operator\n",
    "print( x >1 and b > 2)\n",
    "print( x ==1 and b == 2)\n",
    "print( x ==1 or b > 2)\n",
    "\n",
    "print(\"OR\")\n",
    "# OR Logical Operator\n",
    "print( x >1 or b > 2)\n",
    "print( x ==1 or b == 2)\n",
    "print( x ==1 or b > 2)\n",
    "\n",
    "print(\"NOT\")\n",
    "# Not Logical Operator\n",
    "print( not(x >1 or b > 2))\n",
    "print( not(x ==1 or b == 2))\n",
    "print( not(x ==1 or b > 2))"
   ]
  },
  {
   "cell_type": "markdown",
   "id": "20d7867b-bea1-4179-9928-e1a55b64ba71",
   "metadata": {},
   "source": [
    "## Identity Operator"
   ]
  },
  {
   "cell_type": "code",
   "execution_count": 74,
   "id": "39dcaba7-8adb-4cf6-aa50-9935f061c521",
   "metadata": {},
   "outputs": [
    {
     "name": "stdout",
     "output_type": "stream",
     "text": [
      "Operator            Description                                                 Example             \n",
      "is                  Returns True if both variables are the same object          x is y              \n",
      "is not              Returns True if both variables are not the same object      x is not y\n"
     ]
    }
   ],
   "source": [
    "x = \"\"\"Operator\tDescription\t                                        Example\t\n",
    "is \tReturns True if both variables are the same object\tx is y\t\n",
    "is not\tReturns True if both variables are not the same object\tx is not y\"\"\".expandtabs(20)\n",
    "print(x)"
   ]
  },
  {
   "cell_type": "code",
   "execution_count": 61,
   "id": "303d44c8-9591-4408-82bc-2f07bc61fe78",
   "metadata": {},
   "outputs": [
    {
     "name": "stdout",
     "output_type": "stream",
     "text": [
      "True\n",
      "False\n"
     ]
    }
   ],
   "source": [
    "x = 1\n",
    "y = 1\n",
    "\n",
    "#Checing on a Memory Level\n",
    "print(x is y)\n",
    "print( y is not x)"
   ]
  },
  {
   "cell_type": "markdown",
   "id": "55f3f621-9cc6-474b-942b-e35bd032f56e",
   "metadata": {},
   "source": [
    "## Membrship Operator"
   ]
  },
  {
   "cell_type": "code",
   "execution_count": 97,
   "id": "48baeae5-f035-47bb-a153-4b559d762c6b",
   "metadata": {},
   "outputs": [
    {
     "name": "stdout",
     "output_type": "stream",
     "text": [
      "Operator            Description                                                 Example             \n",
      "in                  Returns True if value is present in the object              x in y              \n",
      "not in              Returns True if value is not present in the object          x not in y\n"
     ]
    }
   ],
   "source": [
    "x = \"\"\"Operator\tDescription\t                                        Example\t\n",
    "in \tReturns True if value is present in the object\tx in y\t\n",
    "not in\tReturns True if value is not present in the object\tx not in y\"\"\".expandtabs(20)\n",
    "print(x)"
   ]
  },
  {
   "cell_type": "code",
   "execution_count": 63,
   "id": "20453287-db4e-4af8-bf9b-b790a0a8fcad",
   "metadata": {},
   "outputs": [
    {
     "name": "stdout",
     "output_type": "stream",
     "text": [
      "True\n",
      "False\n"
     ]
    }
   ],
   "source": [
    "\n",
    "\n",
    "x = [1,2,3,4,5]\n",
    "print(1 in x)\n",
    "print ( 1 not in x)"
   ]
  },
  {
   "cell_type": "code",
   "execution_count": null,
   "id": "25e7bb1e-f76a-4e92-9697-77f576e53aa0",
   "metadata": {},
   "outputs": [],
   "source": [
    "# Deep Copy vs #Shell Copy\n",
    "\n",
    "# Completley two seperates objects\n",
    "# Shallow Copy Is The Copy Of Object Change in it Does not Effects The Real Object\n",
    "\n"
   ]
  },
  {
   "cell_type": "markdown",
   "id": "e8c9cd78-da6d-45a9-904e-048cbf0a31b5",
   "metadata": {},
   "source": [
    "## Shallow Copy "
   ]
  },
  {
   "cell_type": "code",
   "execution_count": 100,
   "id": "fb339ce1-4eee-4fd9-a0b5-8a46cc3c9fff",
   "metadata": {},
   "outputs": [
    {
     "name": "stdout",
     "output_type": "stream",
     "text": [
      "1386583910832 1386583910832 1386583910832\n"
     ]
    }
   ],
   "source": [
    "#Memory Managment In Python\n",
    "\n",
    "a =5\n",
    "b = 5\n",
    "c = 5\n",
    "print(id(a), id(b), id (c))"
   ]
  },
  {
   "cell_type": "markdown",
   "id": "922dcfbc-de01-42ad-9e7b-740e51c04d12",
   "metadata": {},
   "source": [
    "## Deep Copy"
   ]
  },
  {
   "cell_type": "code",
   "execution_count": 106,
   "id": "529db197-56f4-4be7-b4a4-cdad3aef0cbb",
   "metadata": {},
   "outputs": [
    {
     "name": "stdout",
     "output_type": "stream",
     "text": [
      "1386703645888 1386705246208\n"
     ]
    }
   ],
   "source": [
    "name = [\"Faisal\"]\n",
    "# It Will Not Save On Same On Memory Level\n",
    "name1 = name.copy() # Deep Copy In Different Object With Same Value But Different Values\n",
    "\n",
    "print(id(name), id(name1))"
   ]
  },
  {
   "cell_type": "code",
   "execution_count": 107,
   "id": "e34368a8-8af2-4e8c-8420-8d925eebf381",
   "metadata": {},
   "outputs": [
    {
     "name": "stdout",
     "output_type": "stream",
     "text": [
      "False\n",
      "True\n"
     ]
    }
   ],
   "source": [
    "print( name1 is name)\n",
    "print(name1 == name)"
   ]
  },
  {
   "cell_type": "code",
   "execution_count": null,
   "id": "1824cf0d-fe95-4a52-a4b2-0a5507e6fe9f",
   "metadata": {},
   "outputs": [],
   "source": []
  }
 ],
 "metadata": {
  "kernelspec": {
   "display_name": "Python 3 (ipykernel)",
   "language": "python",
   "name": "python3"
  },
  "language_info": {
   "codemirror_mode": {
    "name": "ipython",
    "version": 3
   },
   "file_extension": ".py",
   "mimetype": "text/x-python",
   "name": "python",
   "nbconvert_exporter": "python",
   "pygments_lexer": "ipython3",
   "version": "3.9.13"
  }
 },
 "nbformat": 4,
 "nbformat_minor": 5
}
